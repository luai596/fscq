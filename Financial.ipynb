{
  "nbformat": 4,
  "nbformat_minor": 0,
  "metadata": {
    "colab": {
      "name": "Financial.ipynb",
      "provenance": [],
      "toc_visible": true,
      "authorship_tag": "ABX9TyN6tLddl8bLfDt/7ThpgOzh",
      "include_colab_link": true
    },
    "kernelspec": {
      "name": "python3",
      "display_name": "Python 3"
    }
  },
  "cells": [
    {
      "cell_type": "markdown",
      "metadata": {
        "id": "view-in-github",
        "colab_type": "text"
      },
      "source": [
        "<a href=\"https://colab.research.google.com/github/luai596/fscq/blob/master/Financial.ipynb\" target=\"_parent\"><img src=\"https://colab.research.google.com/assets/colab-badge.svg\" alt=\"Open In Colab\"/></a>"
      ]
    },
    {
      "cell_type": "markdown",
      "metadata": {
        "id": "ow440Hkih7Ax"
      },
      "source": [
        "# Import Needed *Libraries*"
      ]
    },
    {
      "cell_type": "code",
      "metadata": {
        "colab": {
          "base_uri": "https://localhost:8080/",
          "height": 16
        },
        "id": "-AOu35vahhE_",
        "outputId": "1fbf3c67-f01f-49e8-dc86-ca862b9fe6f1"
      },
      "source": [
        "import pandas as pd\r\n",
        "import matplotlib.pyplot as plt\r\n",
        "import seaborn as sns\r\n",
        "from sklearn.model_selection import train_test_split\r\n",
        "from sklearn.ensemble import RandomForestClassifier\r\n",
        "from sklearn.metrics import classification_report,confusion_matrix\r\n",
        "import numpy as np\r\n",
        "import plotly.offline as py\r\n",
        "from sklearn.preprocessing import LabelEncoder\r\n",
        "from sklearn.preprocessing import StandardScaler\r\n",
        "py.init_notebook_mode(connected=True)\r\n",
        "import warnings \r\n",
        "warnings.simplefilter('ignore')"
      ],
      "execution_count": 1,
      "outputs": [
        {
          "output_type": "display_data",
          "data": {
            "text/html": [
              "        <script type=\"text/javascript\">\n",
              "        window.PlotlyConfig = {MathJaxConfig: 'local'};\n",
              "        if (window.MathJax) {MathJax.Hub.Config({SVG: {font: \"STIX-Web\"}});}\n",
              "        if (typeof require !== 'undefined') {\n",
              "        require.undef(\"plotly\");\n",
              "        requirejs.config({\n",
              "            paths: {\n",
              "                'plotly': ['https://cdn.plot.ly/plotly-latest.min']\n",
              "            }\n",
              "        });\n",
              "        require(['plotly'], function(Plotly) {\n",
              "            window._Plotly = Plotly;\n",
              "        });\n",
              "        }\n",
              "        </script>\n",
              "        "
            ]
          },
          "metadata": {
            "tags": []
          }
        }
      ]
    },
    {
      "cell_type": "markdown",
      "metadata": {
        "id": "o4ToAb4-kF8I"
      },
      "source": [
        "# Reading the datset"
      ]
    },
    {
      "cell_type": "code",
      "metadata": {
        "id": "VIBOU8yakYps"
      },
      "source": [
        "#read train data set\r\n",
        "train = pd.read_csv(\"Train_v2.csv\")"
      ],
      "execution_count": 100,
      "outputs": []
    },
    {
      "cell_type": "code",
      "metadata": {
        "id": "uPLdSpQ9khzx"
      },
      "source": [
        "#read test data set\r\n",
        "test = pd.read_csv(\"Test_v2.csv\")"
      ],
      "execution_count": 101,
      "outputs": []
    },
    {
      "cell_type": "code",
      "metadata": {
        "id": "Y1t9T5KpzXmb"
      },
      "source": [
        "#read submission file\r\n",
        "sub=pd.read_csv(\"SubmissionFile\")"
      ],
      "execution_count": null,
      "outputs": []
    },
    {
      "cell_type": "code",
      "metadata": {
        "id": "x1Di9FjgzkPo"
      },
      "source": [
        "#read VariableDefinitions\r\n",
        "var=pd.read_csv(\"VariableDefinitions\")"
      ],
      "execution_count": null,
      "outputs": []
    },
    {
      "cell_type": "markdown",
      "metadata": {
        "id": "zfq5RB46kt1F"
      },
      "source": [
        "# information about training Dataset"
      ]
    },
    {
      "cell_type": "code",
      "metadata": {
        "id": "Mhg4vUL5k29D",
        "colab": {
          "base_uri": "https://localhost:8080/"
        },
        "outputId": "b781a2aa-50a5-4bf0-bc3e-e3ee95835202"
      },
      "source": [
        "#disply training set informations\r\n",
        "train.info()"
      ],
      "execution_count": 5,
      "outputs": [
        {
          "output_type": "stream",
          "text": [
            "<class 'pandas.core.frame.DataFrame'>\n",
            "RangeIndex: 23524 entries, 0 to 23523\n",
            "Data columns (total 13 columns):\n",
            " #   Column                  Non-Null Count  Dtype \n",
            "---  ------                  --------------  ----- \n",
            " 0   country                 23524 non-null  object\n",
            " 1   year                    23524 non-null  int64 \n",
            " 2   uniqueid                23524 non-null  object\n",
            " 3   bank_account            23524 non-null  object\n",
            " 4   location_type           23524 non-null  object\n",
            " 5   cellphone_access        23524 non-null  object\n",
            " 6   household_size          23524 non-null  int64 \n",
            " 7   age_of_respondent       23524 non-null  int64 \n",
            " 8   gender_of_respondent    23524 non-null  object\n",
            " 9   relationship_with_head  23524 non-null  object\n",
            " 10  marital_status          23524 non-null  object\n",
            " 11  education_level         23524 non-null  object\n",
            " 12  job_type                23524 non-null  object\n",
            "dtypes: int64(3), object(10)\n",
            "memory usage: 2.3+ MB\n"
          ],
          "name": "stdout"
        }
      ]
    },
    {
      "cell_type": "code",
      "metadata": {
        "colab": {
          "base_uri": "https://localhost:8080/"
        },
        "id": "vhThwCllI9P5",
        "outputId": "05c5f5cc-341e-4540-fbda-fa653c60a8ed"
      },
      "source": [
        "#disply sum of null values for each feature\r\n",
        "train.isnull().sum()"
      ],
      "execution_count": 6,
      "outputs": [
        {
          "output_type": "execute_result",
          "data": {
            "text/plain": [
              "country                   0\n",
              "year                      0\n",
              "uniqueid                  0\n",
              "bank_account              0\n",
              "location_type             0\n",
              "cellphone_access          0\n",
              "household_size            0\n",
              "age_of_respondent         0\n",
              "gender_of_respondent      0\n",
              "relationship_with_head    0\n",
              "marital_status            0\n",
              "education_level           0\n",
              "job_type                  0\n",
              "dtype: int64"
            ]
          },
          "metadata": {
            "tags": []
          },
          "execution_count": 6
        }
      ]
    },
    {
      "cell_type": "code",
      "metadata": {
        "id": "yWTr_jfSlmzW",
        "colab": {
          "base_uri": "https://localhost:8080/"
        },
        "outputId": "d7fbd290-9ffc-4d50-c155-ef720656126d"
      },
      "source": [
        "#Display the  sum Null Values(if exisit)  in Train Dataset for each feature\r\n",
        "train.isnull().sum()"
      ],
      "execution_count": 7,
      "outputs": [
        {
          "output_type": "execute_result",
          "data": {
            "text/plain": [
              "country                   0\n",
              "year                      0\n",
              "uniqueid                  0\n",
              "bank_account              0\n",
              "location_type             0\n",
              "cellphone_access          0\n",
              "household_size            0\n",
              "age_of_respondent         0\n",
              "gender_of_respondent      0\n",
              "relationship_with_head    0\n",
              "marital_status            0\n",
              "education_level           0\n",
              "job_type                  0\n",
              "dtype: int64"
            ]
          },
          "metadata": {
            "tags": []
          },
          "execution_count": 7
        }
      ]
    },
    {
      "cell_type": "code",
      "metadata": {
        "id": "wNoKVwT-l5jY",
        "colab": {
          "base_uri": "https://localhost:8080/"
        },
        "outputId": "0441c41f-bdd9-4f48-d0d0-92f8e78e7374"
      },
      "source": [
        "#Display the  sum Null Values(if exisit)  in Test Dataset for each feature\r\n",
        "test.isnull().sum()"
      ],
      "execution_count": 8,
      "outputs": [
        {
          "output_type": "execute_result",
          "data": {
            "text/plain": [
              "country                   0\n",
              "year                      0\n",
              "uniqueid                  0\n",
              "location_type             0\n",
              "cellphone_access          0\n",
              "household_size            0\n",
              "age_of_respondent         0\n",
              "gender_of_respondent      0\n",
              "relationship_with_head    0\n",
              "marital_status            0\n",
              "education_level           0\n",
              "job_type                  0\n",
              "dtype: int64"
            ]
          },
          "metadata": {
            "tags": []
          },
          "execution_count": 8
        }
      ]
    },
    {
      "cell_type": "code",
      "metadata": {
        "colab": {
          "base_uri": "https://localhost:8080/"
        },
        "id": "aYt-ZZR2mm23",
        "outputId": "4d07966b-6e49-41d6-e58d-ccec37a140e1"
      },
      "source": [
        "# count number of  training individuals for some african countries{Kenya, Rwanda, Tanzania and Uganda}\r\n",
        "train.country.value_counts()"
      ],
      "execution_count": 9,
      "outputs": [
        {
          "output_type": "execute_result",
          "data": {
            "text/plain": [
              "Rwanda      8735\n",
              "Tanzania    6620\n",
              "Kenya       6068\n",
              "Uganda      2101\n",
              "Name: country, dtype: int64"
            ]
          },
          "metadata": {
            "tags": []
          },
          "execution_count": 9
        }
      ]
    },
    {
      "cell_type": "code",
      "metadata": {
        "id": "LiE4vNl_mxgy",
        "colab": {
          "base_uri": "https://localhost:8080/",
          "height": 317
        },
        "outputId": "732e0a47-496a-46f2-9ef1-5523221cc42e"
      },
      "source": [
        "#displaying rows of training data \r\n",
        "train.head()"
      ],
      "execution_count": 10,
      "outputs": [
        {
          "output_type": "execute_result",
          "data": {
            "text/html": [
              "<div>\n",
              "<style scoped>\n",
              "    .dataframe tbody tr th:only-of-type {\n",
              "        vertical-align: middle;\n",
              "    }\n",
              "\n",
              "    .dataframe tbody tr th {\n",
              "        vertical-align: top;\n",
              "    }\n",
              "\n",
              "    .dataframe thead th {\n",
              "        text-align: right;\n",
              "    }\n",
              "</style>\n",
              "<table border=\"1\" class=\"dataframe\">\n",
              "  <thead>\n",
              "    <tr style=\"text-align: right;\">\n",
              "      <th></th>\n",
              "      <th>country</th>\n",
              "      <th>year</th>\n",
              "      <th>uniqueid</th>\n",
              "      <th>bank_account</th>\n",
              "      <th>location_type</th>\n",
              "      <th>cellphone_access</th>\n",
              "      <th>household_size</th>\n",
              "      <th>age_of_respondent</th>\n",
              "      <th>gender_of_respondent</th>\n",
              "      <th>relationship_with_head</th>\n",
              "      <th>marital_status</th>\n",
              "      <th>education_level</th>\n",
              "      <th>job_type</th>\n",
              "    </tr>\n",
              "  </thead>\n",
              "  <tbody>\n",
              "    <tr>\n",
              "      <th>0</th>\n",
              "      <td>Kenya</td>\n",
              "      <td>2018</td>\n",
              "      <td>uniqueid_1</td>\n",
              "      <td>Yes</td>\n",
              "      <td>Rural</td>\n",
              "      <td>Yes</td>\n",
              "      <td>3</td>\n",
              "      <td>24</td>\n",
              "      <td>Female</td>\n",
              "      <td>Spouse</td>\n",
              "      <td>Married/Living together</td>\n",
              "      <td>Secondary education</td>\n",
              "      <td>Self employed</td>\n",
              "    </tr>\n",
              "    <tr>\n",
              "      <th>1</th>\n",
              "      <td>Kenya</td>\n",
              "      <td>2018</td>\n",
              "      <td>uniqueid_2</td>\n",
              "      <td>No</td>\n",
              "      <td>Rural</td>\n",
              "      <td>No</td>\n",
              "      <td>5</td>\n",
              "      <td>70</td>\n",
              "      <td>Female</td>\n",
              "      <td>Head of Household</td>\n",
              "      <td>Widowed</td>\n",
              "      <td>No formal education</td>\n",
              "      <td>Government Dependent</td>\n",
              "    </tr>\n",
              "    <tr>\n",
              "      <th>2</th>\n",
              "      <td>Kenya</td>\n",
              "      <td>2018</td>\n",
              "      <td>uniqueid_3</td>\n",
              "      <td>Yes</td>\n",
              "      <td>Urban</td>\n",
              "      <td>Yes</td>\n",
              "      <td>5</td>\n",
              "      <td>26</td>\n",
              "      <td>Male</td>\n",
              "      <td>Other relative</td>\n",
              "      <td>Single/Never Married</td>\n",
              "      <td>Vocational/Specialised training</td>\n",
              "      <td>Self employed</td>\n",
              "    </tr>\n",
              "    <tr>\n",
              "      <th>3</th>\n",
              "      <td>Kenya</td>\n",
              "      <td>2018</td>\n",
              "      <td>uniqueid_4</td>\n",
              "      <td>No</td>\n",
              "      <td>Rural</td>\n",
              "      <td>Yes</td>\n",
              "      <td>5</td>\n",
              "      <td>34</td>\n",
              "      <td>Female</td>\n",
              "      <td>Head of Household</td>\n",
              "      <td>Married/Living together</td>\n",
              "      <td>Primary education</td>\n",
              "      <td>Formally employed Private</td>\n",
              "    </tr>\n",
              "    <tr>\n",
              "      <th>4</th>\n",
              "      <td>Kenya</td>\n",
              "      <td>2018</td>\n",
              "      <td>uniqueid_5</td>\n",
              "      <td>No</td>\n",
              "      <td>Urban</td>\n",
              "      <td>No</td>\n",
              "      <td>8</td>\n",
              "      <td>26</td>\n",
              "      <td>Male</td>\n",
              "      <td>Child</td>\n",
              "      <td>Single/Never Married</td>\n",
              "      <td>Primary education</td>\n",
              "      <td>Informally employed</td>\n",
              "    </tr>\n",
              "  </tbody>\n",
              "</table>\n",
              "</div>"
            ],
            "text/plain": [
              "  country  year  ...                  education_level                   job_type\n",
              "0   Kenya  2018  ...              Secondary education              Self employed\n",
              "1   Kenya  2018  ...              No formal education       Government Dependent\n",
              "2   Kenya  2018  ...  Vocational/Specialised training              Self employed\n",
              "3   Kenya  2018  ...                Primary education  Formally employed Private\n",
              "4   Kenya  2018  ...                Primary education        Informally employed\n",
              "\n",
              "[5 rows x 13 columns]"
            ]
          },
          "metadata": {
            "tags": []
          },
          "execution_count": 10
        }
      ]
    },
    {
      "cell_type": "code",
      "metadata": {
        "colab": {
          "base_uri": "https://localhost:8080/"
        },
        "id": "cIzStnPCfy7y",
        "outputId": "fc26363f-5dba-459b-80cd-ba248e67abe7"
      },
      "source": [
        "#number of columns,rows\r\n",
        "train.shape"
      ],
      "execution_count": 103,
      "outputs": [
        {
          "output_type": "execute_result",
          "data": {
            "text/plain": [
              "(23524, 13)"
            ]
          },
          "metadata": {
            "tags": []
          },
          "execution_count": 103
        }
      ]
    },
    {
      "cell_type": "code",
      "metadata": {
        "colab": {
          "base_uri": "https://localhost:8080/"
        },
        "id": "vwQvEwCMif7R",
        "outputId": "84f2f897-98d4-4282-ca5f-9aa2b6e054b1"
      },
      "source": [
        "#drop a row if any value is missing \r\n",
        "train.dropna(how='any').shape"
      ],
      "execution_count": 105,
      "outputs": [
        {
          "output_type": "execute_result",
          "data": {
            "text/plain": [
              "(23524, 13)"
            ]
          },
          "metadata": {
            "tags": []
          },
          "execution_count": 105
        }
      ]
    },
    {
      "cell_type": "markdown",
      "metadata": {
        "id": "uLcgNhhUg8F3"
      },
      "source": [
        "# **Preprocessing of Data**"
      ]
    },
    {
      "cell_type": "code",
      "metadata": {
        "id": "D4xqxLHx12ht"
      },
      "source": [
        "#convert cellphone_access feature from categorical to numeric values\r\n",
        "# convert location_type feature from catgorical to numeric values\r\n",
        "def preprocess_data(data) :\r\n",
        "    dic1 = {\"Yes\" : 1 , \"No\" : 0} \r\n",
        "    dic2 = {\"Rural\" : 0 , \"Urban\" : 1} \r\n",
        "    data[\"location_type\"]=data[\"location_type\"].map(dic2) \r\n",
        "    data[\"cellphone_access\"]=data[\"cellphone_access\"].map(dic1)\r\n",
        "    one_hot = pd.get_dummies(data[\"gender_of_respondent\"])\r\n",
        "    data = data.drop(\"gender_of_respondent\",axis=1)\r\n",
        "    data = data.join(one_hot)\r\n",
        "    one_hot = pd.get_dummies(data[\"country\"])\r\n",
        "    data = data.drop(\"country\",axis=1)\r\n",
        "    data = data.join(one_hot)\r\n",
        "    le = LabelEncoder()\r\n",
        "    data['relationship_with_head']=le.fit_transform(data['relationship_with_head'])\r\n",
        "    data['marital_status']=le.fit_transform(data[\"marital_status\"])\r\n",
        "    data['education_level']=le.fit_transform(data[\"education_level\"])\r\n",
        "    data['job_type']=le.fit_transform(data['job_type'])\r\n",
        "    data = data.drop('uniqueid',axis=1)\r\n",
        "    data.loc[ data['age_of_respondent'] <= 16, 'age_of_respondent']   = 0\r\n",
        "    data.loc[(data['age_of_respondent'] > 16) & (data['age_of_respondent'] <= 32), 'age_of_respondent'] = 1\r\n",
        "    data.loc[(data['age_of_respondent'] > 32) & (data['age_of_respondent'] <= 48), 'age_of_respondent'] = 2\r\n",
        "    data.loc[(data['age_of_respondent'] > 48) & (data['age_of_respondent'] <= 64), 'age_of_respondent'] = 3\r\n",
        "    data.loc[ data['age_of_respondent'] > 64, 'age_of_respondent'] = 4\r\n",
        "    return data"
      ],
      "execution_count": 11,
      "outputs": []
    },
    {
      "cell_type": "code",
      "metadata": {
        "colab": {
          "base_uri": "https://localhost:8080/",
          "height": 317
        },
        "id": "cX9riTNgJadC",
        "outputId": "c7018ae0-e351-4c37-a457-27c62a201783"
      },
      "source": [
        "train.head()\r\n"
      ],
      "execution_count": 12,
      "outputs": [
        {
          "output_type": "execute_result",
          "data": {
            "text/html": [
              "<div>\n",
              "<style scoped>\n",
              "    .dataframe tbody tr th:only-of-type {\n",
              "        vertical-align: middle;\n",
              "    }\n",
              "\n",
              "    .dataframe tbody tr th {\n",
              "        vertical-align: top;\n",
              "    }\n",
              "\n",
              "    .dataframe thead th {\n",
              "        text-align: right;\n",
              "    }\n",
              "</style>\n",
              "<table border=\"1\" class=\"dataframe\">\n",
              "  <thead>\n",
              "    <tr style=\"text-align: right;\">\n",
              "      <th></th>\n",
              "      <th>country</th>\n",
              "      <th>year</th>\n",
              "      <th>uniqueid</th>\n",
              "      <th>bank_account</th>\n",
              "      <th>location_type</th>\n",
              "      <th>cellphone_access</th>\n",
              "      <th>household_size</th>\n",
              "      <th>age_of_respondent</th>\n",
              "      <th>gender_of_respondent</th>\n",
              "      <th>relationship_with_head</th>\n",
              "      <th>marital_status</th>\n",
              "      <th>education_level</th>\n",
              "      <th>job_type</th>\n",
              "    </tr>\n",
              "  </thead>\n",
              "  <tbody>\n",
              "    <tr>\n",
              "      <th>0</th>\n",
              "      <td>Kenya</td>\n",
              "      <td>2018</td>\n",
              "      <td>uniqueid_1</td>\n",
              "      <td>Yes</td>\n",
              "      <td>Rural</td>\n",
              "      <td>Yes</td>\n",
              "      <td>3</td>\n",
              "      <td>24</td>\n",
              "      <td>Female</td>\n",
              "      <td>Spouse</td>\n",
              "      <td>Married/Living together</td>\n",
              "      <td>Secondary education</td>\n",
              "      <td>Self employed</td>\n",
              "    </tr>\n",
              "    <tr>\n",
              "      <th>1</th>\n",
              "      <td>Kenya</td>\n",
              "      <td>2018</td>\n",
              "      <td>uniqueid_2</td>\n",
              "      <td>No</td>\n",
              "      <td>Rural</td>\n",
              "      <td>No</td>\n",
              "      <td>5</td>\n",
              "      <td>70</td>\n",
              "      <td>Female</td>\n",
              "      <td>Head of Household</td>\n",
              "      <td>Widowed</td>\n",
              "      <td>No formal education</td>\n",
              "      <td>Government Dependent</td>\n",
              "    </tr>\n",
              "    <tr>\n",
              "      <th>2</th>\n",
              "      <td>Kenya</td>\n",
              "      <td>2018</td>\n",
              "      <td>uniqueid_3</td>\n",
              "      <td>Yes</td>\n",
              "      <td>Urban</td>\n",
              "      <td>Yes</td>\n",
              "      <td>5</td>\n",
              "      <td>26</td>\n",
              "      <td>Male</td>\n",
              "      <td>Other relative</td>\n",
              "      <td>Single/Never Married</td>\n",
              "      <td>Vocational/Specialised training</td>\n",
              "      <td>Self employed</td>\n",
              "    </tr>\n",
              "    <tr>\n",
              "      <th>3</th>\n",
              "      <td>Kenya</td>\n",
              "      <td>2018</td>\n",
              "      <td>uniqueid_4</td>\n",
              "      <td>No</td>\n",
              "      <td>Rural</td>\n",
              "      <td>Yes</td>\n",
              "      <td>5</td>\n",
              "      <td>34</td>\n",
              "      <td>Female</td>\n",
              "      <td>Head of Household</td>\n",
              "      <td>Married/Living together</td>\n",
              "      <td>Primary education</td>\n",
              "      <td>Formally employed Private</td>\n",
              "    </tr>\n",
              "    <tr>\n",
              "      <th>4</th>\n",
              "      <td>Kenya</td>\n",
              "      <td>2018</td>\n",
              "      <td>uniqueid_5</td>\n",
              "      <td>No</td>\n",
              "      <td>Urban</td>\n",
              "      <td>No</td>\n",
              "      <td>8</td>\n",
              "      <td>26</td>\n",
              "      <td>Male</td>\n",
              "      <td>Child</td>\n",
              "      <td>Single/Never Married</td>\n",
              "      <td>Primary education</td>\n",
              "      <td>Informally employed</td>\n",
              "    </tr>\n",
              "  </tbody>\n",
              "</table>\n",
              "</div>"
            ],
            "text/plain": [
              "  country  year  ...                  education_level                   job_type\n",
              "0   Kenya  2018  ...              Secondary education              Self employed\n",
              "1   Kenya  2018  ...              No formal education       Government Dependent\n",
              "2   Kenya  2018  ...  Vocational/Specialised training              Self employed\n",
              "3   Kenya  2018  ...                Primary education  Formally employed Private\n",
              "4   Kenya  2018  ...                Primary education        Informally employed\n",
              "\n",
              "[5 rows x 13 columns]"
            ]
          },
          "metadata": {
            "tags": []
          },
          "execution_count": 12
        }
      ]
    },
    {
      "cell_type": "code",
      "metadata": {
        "colab": {
          "base_uri": "https://localhost:8080/"
        },
        "id": "VkgCiqJJKRes",
        "outputId": "45f4f17e-27af-4488-d9e9-11a31dcd3247"
      },
      "source": [
        "train.info()"
      ],
      "execution_count": 13,
      "outputs": [
        {
          "output_type": "stream",
          "text": [
            "<class 'pandas.core.frame.DataFrame'>\n",
            "RangeIndex: 23524 entries, 0 to 23523\n",
            "Data columns (total 13 columns):\n",
            " #   Column                  Non-Null Count  Dtype \n",
            "---  ------                  --------------  ----- \n",
            " 0   country                 23524 non-null  object\n",
            " 1   year                    23524 non-null  int64 \n",
            " 2   uniqueid                23524 non-null  object\n",
            " 3   bank_account            23524 non-null  object\n",
            " 4   location_type           23524 non-null  object\n",
            " 5   cellphone_access        23524 non-null  object\n",
            " 6   household_size          23524 non-null  int64 \n",
            " 7   age_of_respondent       23524 non-null  int64 \n",
            " 8   gender_of_respondent    23524 non-null  object\n",
            " 9   relationship_with_head  23524 non-null  object\n",
            " 10  marital_status          23524 non-null  object\n",
            " 11  education_level         23524 non-null  object\n",
            " 12  job_type                23524 non-null  object\n",
            "dtypes: int64(3), object(10)\n",
            "memory usage: 2.3+ MB\n"
          ],
          "name": "stdout"
        }
      ]
    },
    {
      "cell_type": "code",
      "metadata": {
        "id": "PxSnfV0h2Crw"
      },
      "source": [
        "#preprocessing the data\r\n",
        "def preprocess_data2(data) :\r\n",
        "    dic1 = {\"Yes\" : 1 , \"No\" : 0}\r\n",
        "    dic2 = {\"Rural\" : 0 , \"Urban\" : 1}\r\n",
        "    data[\"location_type\"]=data[\"location_type\"].map(dic2)\r\n",
        "    data[\"cellphone_access\"]=data[\"cellphone_access\"].map(dic1)\r\n",
        "    one_hot = pd.get_dummies(data[\"gender_of_respondent\"])\r\n",
        "    data = data.drop(\"gender_of_respondent\",axis=1)\r\n",
        "    data = data.join(one_hot)\r\n",
        "    one_hot = pd.get_dummies(data[\"country\"])\r\n",
        "    data = data.drop(\"country\",axis=1)\r\n",
        "    data = data.join(one_hot)\r\n",
        "    one_hot = pd.get_dummies(data[\"relationship_with_head\"])\r\n",
        "    data = data.drop(\"relationship_with_head\",axis=1)\r\n",
        "    data = data.join(one_hot)\r\n",
        "    one_hot = pd.get_dummies(data[\"marital_status\"])\r\n",
        "    data = data.drop(\"marital_status\",axis=1)\r\n",
        "    data = data.join(one_hot)\r\n",
        "    one_hot = pd.get_dummies(data[\"education_level\"])\r\n",
        "    data = data.drop(\"education_level\",axis=1)\r\n",
        "    data = data.join(one_hot)\r\n",
        "    one_hot = pd.get_dummies(data[\"job_type\"])\r\n",
        "    data = data.drop(\"job_type\",axis=1)\r\n",
        "    data = data.join(one_hot)\r\n",
        "    data = data.drop('uniqueid',axis=1)\r\n",
        "    data.loc[ data['age_of_respondent'] <= 16, 'age_of_respondent']   = 0\r\n",
        "    data.loc[(data['age_of_respondent'] > 16) & (data['age_of_respondent'] <= 32), 'age_of_respondent'] = 1\r\n",
        "    data.loc[(data['age_of_respondent'] > 32) & (data['age_of_respondent'] <= 48), 'age_of_respondent'] = 2\r\n",
        "    data.loc[(data['age_of_respondent'] > 48) & (data['age_of_respondent'] <= 64), 'age_of_respondent'] = 3\r\n",
        "    data.loc[ data['age_of_respondent'] > 64, 'age_of_respondent'] = 4\r\n",
        "    return data"
      ],
      "execution_count": 14,
      "outputs": []
    },
    {
      "cell_type": "code",
      "metadata": {
        "colab": {
          "base_uri": "https://localhost:8080/"
        },
        "id": "JWTN8XxuPcHB",
        "outputId": "9c5163a2-730c-4710-a393-39074c8a251a"
      },
      "source": [
        "train.info()"
      ],
      "execution_count": 15,
      "outputs": [
        {
          "output_type": "stream",
          "text": [
            "<class 'pandas.core.frame.DataFrame'>\n",
            "RangeIndex: 23524 entries, 0 to 23523\n",
            "Data columns (total 13 columns):\n",
            " #   Column                  Non-Null Count  Dtype \n",
            "---  ------                  --------------  ----- \n",
            " 0   country                 23524 non-null  object\n",
            " 1   year                    23524 non-null  int64 \n",
            " 2   uniqueid                23524 non-null  object\n",
            " 3   bank_account            23524 non-null  object\n",
            " 4   location_type           23524 non-null  object\n",
            " 5   cellphone_access        23524 non-null  object\n",
            " 6   household_size          23524 non-null  int64 \n",
            " 7   age_of_respondent       23524 non-null  int64 \n",
            " 8   gender_of_respondent    23524 non-null  object\n",
            " 9   relationship_with_head  23524 non-null  object\n",
            " 10  marital_status          23524 non-null  object\n",
            " 11  education_level         23524 non-null  object\n",
            " 12  job_type                23524 non-null  object\n",
            "dtypes: int64(3), object(10)\n",
            "memory usage: 2.3+ MB\n"
          ],
          "name": "stdout"
        }
      ]
    },
    {
      "cell_type": "code",
      "metadata": {
        "id": "qgmG6Ab_2Jfp"
      },
      "source": [
        "def feature_engineering(data) :\r\n",
        "    data['Has_Education'] = data[\"education_level\"].apply(\r\n",
        "    lambda x: 1 if x=='Primary education' or x=='Secondary education' or x=='Tertiary education'     else 0)\r\n",
        "    return data"
      ],
      "execution_count": 16,
      "outputs": []
    },
    {
      "cell_type": "code",
      "metadata": {
        "id": "bzXgDssR2WOt"
      },
      "source": [
        "def feature_engineering2 (data) :\r\n",
        "    data['works_for_gov'] = data[\"job_type\"].apply(\r\n",
        "    lambda x: 1 if x=='Formally employed Government' or x=='Government Dependent'  else 0)\r\n",
        "    return data"
      ],
      "execution_count": 17,
      "outputs": []
    },
    {
      "cell_type": "markdown",
      "metadata": {
        "id": "9gftMsyRjT6i"
      },
      "source": [
        "# **Data cleaning**"
      ]
    },
    {
      "cell_type": "code",
      "metadata": {
        "id": "gZT6IUih2dkF"
      },
      "source": [
        "#define fuction cleaning_marital_status\r\n",
        "def cleaning_marital_status(data) : \r\n",
        "    train_wrong=data.loc[(data[\"household_size\"]==1) & (data['marital_status']=='Married/Living together') ]\r\n",
        "    data= pd.concat([data,train_wrong,train_wrong]).drop_duplicates(keep=False)\r\n",
        "    return data"
      ],
      "execution_count": 18,
      "outputs": []
    },
    {
      "cell_type": "code",
      "metadata": {
        "colab": {
          "base_uri": "https://localhost:8080/",
          "height": 217
        },
        "id": "0sbypDrv2jvF",
        "outputId": "b4a79ab7-e660-4d38-b6d7-5066bee82c94"
      },
      "source": [
        "#assigning feature engineering  and cleaining and preprocessing to  train_cleaned\r\n",
        "train_cleaned = feature_engineering(train)\r\n",
        "train_cleaned = feature_engineering2(train_cleaned)\r\n",
        "train_cleaned = cleaning_marital_status(train_cleaned)\r\n",
        "train_cleaned = preprocess_data(train_cleaned)\r\n",
        "train_cleaned.head() # display train_cleaned"
      ],
      "execution_count": 19,
      "outputs": [
        {
          "output_type": "execute_result",
          "data": {
            "text/html": [
              "<div>\n",
              "<style scoped>\n",
              "    .dataframe tbody tr th:only-of-type {\n",
              "        vertical-align: middle;\n",
              "    }\n",
              "\n",
              "    .dataframe tbody tr th {\n",
              "        vertical-align: top;\n",
              "    }\n",
              "\n",
              "    .dataframe thead th {\n",
              "        text-align: right;\n",
              "    }\n",
              "</style>\n",
              "<table border=\"1\" class=\"dataframe\">\n",
              "  <thead>\n",
              "    <tr style=\"text-align: right;\">\n",
              "      <th></th>\n",
              "      <th>year</th>\n",
              "      <th>bank_account</th>\n",
              "      <th>location_type</th>\n",
              "      <th>cellphone_access</th>\n",
              "      <th>household_size</th>\n",
              "      <th>age_of_respondent</th>\n",
              "      <th>relationship_with_head</th>\n",
              "      <th>marital_status</th>\n",
              "      <th>education_level</th>\n",
              "      <th>job_type</th>\n",
              "      <th>Has_Education</th>\n",
              "      <th>works_for_gov</th>\n",
              "      <th>Female</th>\n",
              "      <th>Male</th>\n",
              "      <th>Kenya</th>\n",
              "      <th>Rwanda</th>\n",
              "      <th>Tanzania</th>\n",
              "      <th>Uganda</th>\n",
              "    </tr>\n",
              "  </thead>\n",
              "  <tbody>\n",
              "    <tr>\n",
              "      <th>0</th>\n",
              "      <td>2018</td>\n",
              "      <td>Yes</td>\n",
              "      <td>0</td>\n",
              "      <td>1</td>\n",
              "      <td>3</td>\n",
              "      <td>1</td>\n",
              "      <td>5</td>\n",
              "      <td>2</td>\n",
              "      <td>3</td>\n",
              "      <td>9</td>\n",
              "      <td>1</td>\n",
              "      <td>0</td>\n",
              "      <td>1</td>\n",
              "      <td>0</td>\n",
              "      <td>1</td>\n",
              "      <td>0</td>\n",
              "      <td>0</td>\n",
              "      <td>0</td>\n",
              "    </tr>\n",
              "    <tr>\n",
              "      <th>1</th>\n",
              "      <td>2018</td>\n",
              "      <td>No</td>\n",
              "      <td>0</td>\n",
              "      <td>0</td>\n",
              "      <td>5</td>\n",
              "      <td>4</td>\n",
              "      <td>1</td>\n",
              "      <td>4</td>\n",
              "      <td>0</td>\n",
              "      <td>4</td>\n",
              "      <td>0</td>\n",
              "      <td>1</td>\n",
              "      <td>1</td>\n",
              "      <td>0</td>\n",
              "      <td>1</td>\n",
              "      <td>0</td>\n",
              "      <td>0</td>\n",
              "      <td>0</td>\n",
              "    </tr>\n",
              "    <tr>\n",
              "      <th>2</th>\n",
              "      <td>2018</td>\n",
              "      <td>Yes</td>\n",
              "      <td>1</td>\n",
              "      <td>1</td>\n",
              "      <td>5</td>\n",
              "      <td>1</td>\n",
              "      <td>3</td>\n",
              "      <td>3</td>\n",
              "      <td>5</td>\n",
              "      <td>9</td>\n",
              "      <td>0</td>\n",
              "      <td>0</td>\n",
              "      <td>0</td>\n",
              "      <td>1</td>\n",
              "      <td>1</td>\n",
              "      <td>0</td>\n",
              "      <td>0</td>\n",
              "      <td>0</td>\n",
              "    </tr>\n",
              "    <tr>\n",
              "      <th>3</th>\n",
              "      <td>2018</td>\n",
              "      <td>No</td>\n",
              "      <td>0</td>\n",
              "      <td>1</td>\n",
              "      <td>5</td>\n",
              "      <td>2</td>\n",
              "      <td>1</td>\n",
              "      <td>2</td>\n",
              "      <td>2</td>\n",
              "      <td>3</td>\n",
              "      <td>1</td>\n",
              "      <td>0</td>\n",
              "      <td>1</td>\n",
              "      <td>0</td>\n",
              "      <td>1</td>\n",
              "      <td>0</td>\n",
              "      <td>0</td>\n",
              "      <td>0</td>\n",
              "    </tr>\n",
              "    <tr>\n",
              "      <th>4</th>\n",
              "      <td>2018</td>\n",
              "      <td>No</td>\n",
              "      <td>1</td>\n",
              "      <td>0</td>\n",
              "      <td>8</td>\n",
              "      <td>1</td>\n",
              "      <td>0</td>\n",
              "      <td>3</td>\n",
              "      <td>2</td>\n",
              "      <td>5</td>\n",
              "      <td>1</td>\n",
              "      <td>0</td>\n",
              "      <td>0</td>\n",
              "      <td>1</td>\n",
              "      <td>1</td>\n",
              "      <td>0</td>\n",
              "      <td>0</td>\n",
              "      <td>0</td>\n",
              "    </tr>\n",
              "  </tbody>\n",
              "</table>\n",
              "</div>"
            ],
            "text/plain": [
              "   year bank_account  location_type  ...  Rwanda  Tanzania  Uganda\n",
              "0  2018          Yes              0  ...       0         0       0\n",
              "1  2018           No              0  ...       0         0       0\n",
              "2  2018          Yes              1  ...       0         0       0\n",
              "3  2018           No              0  ...       0         0       0\n",
              "4  2018           No              1  ...       0         0       0\n",
              "\n",
              "[5 rows x 18 columns]"
            ]
          },
          "metadata": {
            "tags": []
          },
          "execution_count": 19
        }
      ]
    },
    {
      "cell_type": "code",
      "metadata": {
        "id": "rfMOTclS2r3V"
      },
      "source": [
        "#assign preprocess_data2 to train_cleaned2\r\n",
        "train_cleaned2 = preprocess_data2(train)\r\n"
      ],
      "execution_count": 20,
      "outputs": []
    },
    {
      "cell_type": "code",
      "metadata": {
        "id": "h-9Y-Ttl3pza"
      },
      "source": [
        "#convert catigorical values to numeric value of feature bank_account\r\n",
        "dic1 = {\"Yes\" : 1 , \"No\" : 0}\r\n",
        "train_cleaned[\"bank_account\"]=train_cleaned[\"bank_account\"].map(dic1) #asign after mapping"
      ],
      "execution_count": 21,
      "outputs": []
    },
    {
      "cell_type": "code",
      "metadata": {
        "id": "h7M1XgxS2wnx"
      },
      "source": [
        "train_cleaned2[\"bank_account\"]=train_cleaned2[\"bank_account\"].map(dic1) #asign after mapping\r\n"
      ],
      "execution_count": 22,
      "outputs": []
    },
    {
      "cell_type": "code",
      "metadata": {
        "colab": {
          "base_uri": "https://localhost:8080/",
          "height": 251
        },
        "id": "u1VCrOL83ggt",
        "outputId": "6aac881f-6620-4b4e-c034-812b0c9bec11"
      },
      "source": [
        "train_cleaned2.head() # display again to ensure no null values in data\r\n"
      ],
      "execution_count": 23,
      "outputs": [
        {
          "output_type": "execute_result",
          "data": {
            "text/html": [
              "<div>\n",
              "<style scoped>\n",
              "    .dataframe tbody tr th:only-of-type {\n",
              "        vertical-align: middle;\n",
              "    }\n",
              "\n",
              "    .dataframe tbody tr th {\n",
              "        vertical-align: top;\n",
              "    }\n",
              "\n",
              "    .dataframe thead th {\n",
              "        text-align: right;\n",
              "    }\n",
              "</style>\n",
              "<table border=\"1\" class=\"dataframe\">\n",
              "  <thead>\n",
              "    <tr style=\"text-align: right;\">\n",
              "      <th></th>\n",
              "      <th>year</th>\n",
              "      <th>bank_account</th>\n",
              "      <th>location_type</th>\n",
              "      <th>cellphone_access</th>\n",
              "      <th>household_size</th>\n",
              "      <th>age_of_respondent</th>\n",
              "      <th>Has_Education</th>\n",
              "      <th>works_for_gov</th>\n",
              "      <th>Female</th>\n",
              "      <th>Male</th>\n",
              "      <th>Kenya</th>\n",
              "      <th>Rwanda</th>\n",
              "      <th>Tanzania</th>\n",
              "      <th>Uganda</th>\n",
              "      <th>Child</th>\n",
              "      <th>Head of Household</th>\n",
              "      <th>Other non-relatives</th>\n",
              "      <th>Other relative</th>\n",
              "      <th>Parent</th>\n",
              "      <th>Spouse</th>\n",
              "      <th>Divorced/Seperated</th>\n",
              "      <th>Dont know</th>\n",
              "      <th>Married/Living together</th>\n",
              "      <th>Single/Never Married</th>\n",
              "      <th>Widowed</th>\n",
              "      <th>No formal education</th>\n",
              "      <th>Other/Dont know/RTA</th>\n",
              "      <th>Primary education</th>\n",
              "      <th>Secondary education</th>\n",
              "      <th>Tertiary education</th>\n",
              "      <th>Vocational/Specialised training</th>\n",
              "      <th>Dont Know/Refuse to answer</th>\n",
              "      <th>Farming and Fishing</th>\n",
              "      <th>Formally employed Government</th>\n",
              "      <th>Formally employed Private</th>\n",
              "      <th>Government Dependent</th>\n",
              "      <th>Informally employed</th>\n",
              "      <th>No Income</th>\n",
              "      <th>Other Income</th>\n",
              "      <th>Remittance Dependent</th>\n",
              "      <th>Self employed</th>\n",
              "    </tr>\n",
              "  </thead>\n",
              "  <tbody>\n",
              "    <tr>\n",
              "      <th>0</th>\n",
              "      <td>2018</td>\n",
              "      <td>1</td>\n",
              "      <td>0</td>\n",
              "      <td>1</td>\n",
              "      <td>3</td>\n",
              "      <td>1</td>\n",
              "      <td>1</td>\n",
              "      <td>0</td>\n",
              "      <td>1</td>\n",
              "      <td>0</td>\n",
              "      <td>1</td>\n",
              "      <td>0</td>\n",
              "      <td>0</td>\n",
              "      <td>0</td>\n",
              "      <td>0</td>\n",
              "      <td>0</td>\n",
              "      <td>0</td>\n",
              "      <td>0</td>\n",
              "      <td>0</td>\n",
              "      <td>1</td>\n",
              "      <td>0</td>\n",
              "      <td>0</td>\n",
              "      <td>1</td>\n",
              "      <td>0</td>\n",
              "      <td>0</td>\n",
              "      <td>0</td>\n",
              "      <td>0</td>\n",
              "      <td>0</td>\n",
              "      <td>1</td>\n",
              "      <td>0</td>\n",
              "      <td>0</td>\n",
              "      <td>0</td>\n",
              "      <td>0</td>\n",
              "      <td>0</td>\n",
              "      <td>0</td>\n",
              "      <td>0</td>\n",
              "      <td>0</td>\n",
              "      <td>0</td>\n",
              "      <td>0</td>\n",
              "      <td>0</td>\n",
              "      <td>1</td>\n",
              "    </tr>\n",
              "    <tr>\n",
              "      <th>1</th>\n",
              "      <td>2018</td>\n",
              "      <td>0</td>\n",
              "      <td>0</td>\n",
              "      <td>0</td>\n",
              "      <td>5</td>\n",
              "      <td>4</td>\n",
              "      <td>0</td>\n",
              "      <td>1</td>\n",
              "      <td>1</td>\n",
              "      <td>0</td>\n",
              "      <td>1</td>\n",
              "      <td>0</td>\n",
              "      <td>0</td>\n",
              "      <td>0</td>\n",
              "      <td>0</td>\n",
              "      <td>1</td>\n",
              "      <td>0</td>\n",
              "      <td>0</td>\n",
              "      <td>0</td>\n",
              "      <td>0</td>\n",
              "      <td>0</td>\n",
              "      <td>0</td>\n",
              "      <td>0</td>\n",
              "      <td>0</td>\n",
              "      <td>1</td>\n",
              "      <td>1</td>\n",
              "      <td>0</td>\n",
              "      <td>0</td>\n",
              "      <td>0</td>\n",
              "      <td>0</td>\n",
              "      <td>0</td>\n",
              "      <td>0</td>\n",
              "      <td>0</td>\n",
              "      <td>0</td>\n",
              "      <td>0</td>\n",
              "      <td>1</td>\n",
              "      <td>0</td>\n",
              "      <td>0</td>\n",
              "      <td>0</td>\n",
              "      <td>0</td>\n",
              "      <td>0</td>\n",
              "    </tr>\n",
              "    <tr>\n",
              "      <th>2</th>\n",
              "      <td>2018</td>\n",
              "      <td>1</td>\n",
              "      <td>1</td>\n",
              "      <td>1</td>\n",
              "      <td>5</td>\n",
              "      <td>1</td>\n",
              "      <td>0</td>\n",
              "      <td>0</td>\n",
              "      <td>0</td>\n",
              "      <td>1</td>\n",
              "      <td>1</td>\n",
              "      <td>0</td>\n",
              "      <td>0</td>\n",
              "      <td>0</td>\n",
              "      <td>0</td>\n",
              "      <td>0</td>\n",
              "      <td>0</td>\n",
              "      <td>1</td>\n",
              "      <td>0</td>\n",
              "      <td>0</td>\n",
              "      <td>0</td>\n",
              "      <td>0</td>\n",
              "      <td>0</td>\n",
              "      <td>1</td>\n",
              "      <td>0</td>\n",
              "      <td>0</td>\n",
              "      <td>0</td>\n",
              "      <td>0</td>\n",
              "      <td>0</td>\n",
              "      <td>0</td>\n",
              "      <td>1</td>\n",
              "      <td>0</td>\n",
              "      <td>0</td>\n",
              "      <td>0</td>\n",
              "      <td>0</td>\n",
              "      <td>0</td>\n",
              "      <td>0</td>\n",
              "      <td>0</td>\n",
              "      <td>0</td>\n",
              "      <td>0</td>\n",
              "      <td>1</td>\n",
              "    </tr>\n",
              "    <tr>\n",
              "      <th>3</th>\n",
              "      <td>2018</td>\n",
              "      <td>0</td>\n",
              "      <td>0</td>\n",
              "      <td>1</td>\n",
              "      <td>5</td>\n",
              "      <td>2</td>\n",
              "      <td>1</td>\n",
              "      <td>0</td>\n",
              "      <td>1</td>\n",
              "      <td>0</td>\n",
              "      <td>1</td>\n",
              "      <td>0</td>\n",
              "      <td>0</td>\n",
              "      <td>0</td>\n",
              "      <td>0</td>\n",
              "      <td>1</td>\n",
              "      <td>0</td>\n",
              "      <td>0</td>\n",
              "      <td>0</td>\n",
              "      <td>0</td>\n",
              "      <td>0</td>\n",
              "      <td>0</td>\n",
              "      <td>1</td>\n",
              "      <td>0</td>\n",
              "      <td>0</td>\n",
              "      <td>0</td>\n",
              "      <td>0</td>\n",
              "      <td>1</td>\n",
              "      <td>0</td>\n",
              "      <td>0</td>\n",
              "      <td>0</td>\n",
              "      <td>0</td>\n",
              "      <td>0</td>\n",
              "      <td>0</td>\n",
              "      <td>1</td>\n",
              "      <td>0</td>\n",
              "      <td>0</td>\n",
              "      <td>0</td>\n",
              "      <td>0</td>\n",
              "      <td>0</td>\n",
              "      <td>0</td>\n",
              "    </tr>\n",
              "    <tr>\n",
              "      <th>4</th>\n",
              "      <td>2018</td>\n",
              "      <td>0</td>\n",
              "      <td>1</td>\n",
              "      <td>0</td>\n",
              "      <td>8</td>\n",
              "      <td>1</td>\n",
              "      <td>1</td>\n",
              "      <td>0</td>\n",
              "      <td>0</td>\n",
              "      <td>1</td>\n",
              "      <td>1</td>\n",
              "      <td>0</td>\n",
              "      <td>0</td>\n",
              "      <td>0</td>\n",
              "      <td>1</td>\n",
              "      <td>0</td>\n",
              "      <td>0</td>\n",
              "      <td>0</td>\n",
              "      <td>0</td>\n",
              "      <td>0</td>\n",
              "      <td>0</td>\n",
              "      <td>0</td>\n",
              "      <td>0</td>\n",
              "      <td>1</td>\n",
              "      <td>0</td>\n",
              "      <td>0</td>\n",
              "      <td>0</td>\n",
              "      <td>1</td>\n",
              "      <td>0</td>\n",
              "      <td>0</td>\n",
              "      <td>0</td>\n",
              "      <td>0</td>\n",
              "      <td>0</td>\n",
              "      <td>0</td>\n",
              "      <td>0</td>\n",
              "      <td>0</td>\n",
              "      <td>1</td>\n",
              "      <td>0</td>\n",
              "      <td>0</td>\n",
              "      <td>0</td>\n",
              "      <td>0</td>\n",
              "    </tr>\n",
              "  </tbody>\n",
              "</table>\n",
              "</div>"
            ],
            "text/plain": [
              "   year  bank_account  ...  Remittance Dependent  Self employed\n",
              "0  2018             1  ...                     0              1\n",
              "1  2018             0  ...                     0              0\n",
              "2  2018             1  ...                     0              1\n",
              "3  2018             0  ...                     0              0\n",
              "4  2018             0  ...                     0              0\n",
              "\n",
              "[5 rows x 41 columns]"
            ]
          },
          "metadata": {
            "tags": []
          },
          "execution_count": 23
        }
      ]
    },
    {
      "cell_type": "code",
      "metadata": {
        "colab": {
          "base_uri": "https://localhost:8080/",
          "height": 217
        },
        "id": "jQlRuwh43x5x",
        "outputId": "f51b8499-820c-4b71-a0e6-b223818a6aa1"
      },
      "source": [
        "#feature engineering and cleaning and preproccing  \r\n",
        "test_cleaned = feature_engineering(test)\r\n",
        "test_cleaned = feature_engineering2(test_cleaned)\r\n",
        "test_cleaned = cleaning_marital_status(test_cleaned)\r\n",
        "test_cleaned = preprocess_data(test)\r\n",
        "test_cleaned.head() #display test_cleaned"
      ],
      "execution_count": 24,
      "outputs": [
        {
          "output_type": "execute_result",
          "data": {
            "text/html": [
              "<div>\n",
              "<style scoped>\n",
              "    .dataframe tbody tr th:only-of-type {\n",
              "        vertical-align: middle;\n",
              "    }\n",
              "\n",
              "    .dataframe tbody tr th {\n",
              "        vertical-align: top;\n",
              "    }\n",
              "\n",
              "    .dataframe thead th {\n",
              "        text-align: right;\n",
              "    }\n",
              "</style>\n",
              "<table border=\"1\" class=\"dataframe\">\n",
              "  <thead>\n",
              "    <tr style=\"text-align: right;\">\n",
              "      <th></th>\n",
              "      <th>year</th>\n",
              "      <th>location_type</th>\n",
              "      <th>cellphone_access</th>\n",
              "      <th>household_size</th>\n",
              "      <th>age_of_respondent</th>\n",
              "      <th>relationship_with_head</th>\n",
              "      <th>marital_status</th>\n",
              "      <th>education_level</th>\n",
              "      <th>job_type</th>\n",
              "      <th>Has_Education</th>\n",
              "      <th>works_for_gov</th>\n",
              "      <th>Female</th>\n",
              "      <th>Male</th>\n",
              "      <th>Kenya</th>\n",
              "      <th>Rwanda</th>\n",
              "      <th>Tanzania</th>\n",
              "      <th>Uganda</th>\n",
              "    </tr>\n",
              "  </thead>\n",
              "  <tbody>\n",
              "    <tr>\n",
              "      <th>0</th>\n",
              "      <td>2018</td>\n",
              "      <td>1</td>\n",
              "      <td>1</td>\n",
              "      <td>3</td>\n",
              "      <td>1</td>\n",
              "      <td>1</td>\n",
              "      <td>2</td>\n",
              "      <td>3</td>\n",
              "      <td>2</td>\n",
              "      <td>1</td>\n",
              "      <td>1</td>\n",
              "      <td>0</td>\n",
              "      <td>1</td>\n",
              "      <td>1</td>\n",
              "      <td>0</td>\n",
              "      <td>0</td>\n",
              "      <td>0</td>\n",
              "    </tr>\n",
              "    <tr>\n",
              "      <th>1</th>\n",
              "      <td>2018</td>\n",
              "      <td>1</td>\n",
              "      <td>1</td>\n",
              "      <td>7</td>\n",
              "      <td>3</td>\n",
              "      <td>1</td>\n",
              "      <td>2</td>\n",
              "      <td>5</td>\n",
              "      <td>3</td>\n",
              "      <td>0</td>\n",
              "      <td>0</td>\n",
              "      <td>0</td>\n",
              "      <td>1</td>\n",
              "      <td>1</td>\n",
              "      <td>0</td>\n",
              "      <td>0</td>\n",
              "      <td>0</td>\n",
              "    </tr>\n",
              "    <tr>\n",
              "      <th>2</th>\n",
              "      <td>2018</td>\n",
              "      <td>0</td>\n",
              "      <td>0</td>\n",
              "      <td>3</td>\n",
              "      <td>4</td>\n",
              "      <td>4</td>\n",
              "      <td>2</td>\n",
              "      <td>0</td>\n",
              "      <td>8</td>\n",
              "      <td>0</td>\n",
              "      <td>0</td>\n",
              "      <td>1</td>\n",
              "      <td>0</td>\n",
              "      <td>1</td>\n",
              "      <td>0</td>\n",
              "      <td>0</td>\n",
              "      <td>0</td>\n",
              "    </tr>\n",
              "    <tr>\n",
              "      <th>3</th>\n",
              "      <td>2018</td>\n",
              "      <td>0</td>\n",
              "      <td>0</td>\n",
              "      <td>6</td>\n",
              "      <td>2</td>\n",
              "      <td>1</td>\n",
              "      <td>2</td>\n",
              "      <td>2</td>\n",
              "      <td>8</td>\n",
              "      <td>1</td>\n",
              "      <td>0</td>\n",
              "      <td>1</td>\n",
              "      <td>0</td>\n",
              "      <td>1</td>\n",
              "      <td>0</td>\n",
              "      <td>0</td>\n",
              "      <td>0</td>\n",
              "    </tr>\n",
              "    <tr>\n",
              "      <th>4</th>\n",
              "      <td>2018</td>\n",
              "      <td>1</td>\n",
              "      <td>0</td>\n",
              "      <td>3</td>\n",
              "      <td>0</td>\n",
              "      <td>0</td>\n",
              "      <td>3</td>\n",
              "      <td>3</td>\n",
              "      <td>8</td>\n",
              "      <td>1</td>\n",
              "      <td>0</td>\n",
              "      <td>0</td>\n",
              "      <td>1</td>\n",
              "      <td>1</td>\n",
              "      <td>0</td>\n",
              "      <td>0</td>\n",
              "      <td>0</td>\n",
              "    </tr>\n",
              "  </tbody>\n",
              "</table>\n",
              "</div>"
            ],
            "text/plain": [
              "   year  location_type  cellphone_access  ...  Rwanda  Tanzania  Uganda\n",
              "0  2018              1                 1  ...       0         0       0\n",
              "1  2018              1                 1  ...       0         0       0\n",
              "2  2018              0                 0  ...       0         0       0\n",
              "3  2018              0                 0  ...       0         0       0\n",
              "4  2018              1                 0  ...       0         0       0\n",
              "\n",
              "[5 rows x 17 columns]"
            ]
          },
          "metadata": {
            "tags": []
          },
          "execution_count": 24
        }
      ]
    },
    {
      "cell_type": "code",
      "metadata": {
        "id": "JMmxCa5k36Yr"
      },
      "source": [
        "#test_cleaned2 = preprocess_data2(test)\r\n",
        "#test_cleaned2.head()"
      ],
      "execution_count": 25,
      "outputs": []
    },
    {
      "cell_type": "code",
      "metadata": {
        "id": "O-TXAAzeJJFl"
      },
      "source": [
        "\r\n"
      ],
      "execution_count": 25,
      "outputs": []
    },
    {
      "cell_type": "markdown",
      "metadata": {
        "id": "SXa-cNQb4a1E"
      },
      "source": [
        "# **Manually preproccing data**"
      ]
    },
    {
      "cell_type": "markdown",
      "metadata": {
        "id": "HEzP5YnuL2lF"
      },
      "source": [
        "manual convert feature to numeric values\r\n"
      ]
    },
    {
      "cell_type": "code",
      "metadata": {
        "id": "kPyHnm2G4FUG"
      },
      "source": [
        "dic3 = {\"Kenya\" : 3 , \"Rwanda\" : 2 , \"Tanzania\" : 1  , \"Uganda\" : 0 }\r\n",
        "dic4 = {\"Primary education\" : 5, \"Secondary education\" : 4 ,\"Tertiary education\" :  3,\"Vocational/Specialised training\" :2,\"No formal education\" :1 ,\"Other/Dont know/RTA\" : 0}\r\n",
        "dic5 = {\"Married/Living together\" : 4,\"Single/Never Married\" :3,\"Widowed\":2 ,\"Divorced/Seperated\" :1 ,\"Dont know\" : 0}\r\n",
        "dic6 = {\"Head of Household\":5,\"Spouse\":4,\"Child\":3,\"Other relative\":2,\"Parent\":1,\"Other non-relatives\":0}\r\n",
        "dic7 = {\"Self employed\":9,\"Farming and Fishing\":8,\"Formally employed Private\":7,\"Informally employed\":6,\"Formally employed Government\":5,\"Remittance Dependent\":4,\"Other Income\":3,\"Government Dependent\":2,\"Dont Know/Refuse to answer\":1,\"No Income\":0}"
      ],
      "execution_count": 26,
      "outputs": []
    },
    {
      "cell_type": "code",
      "metadata": {
        "id": "dx8ooCUY4OtH"
      },
      "source": [
        "train['country']=train['country'].map(dic3)\r\n",
        "train['education_level']=train['education_level'].map(dic4)\r\n",
        "train['marital_status']=train['marital_status'].map(dic5)\r\n",
        "train['relationship_with_head'] = train['relationship_with_head'].map(dic6)\r\n",
        "train['job_type']=train['job_type'].map(dic7)"
      ],
      "execution_count": 27,
      "outputs": []
    },
    {
      "cell_type": "code",
      "metadata": {
        "id": "0v6R1DyB4WYR"
      },
      "source": [
        "test['country']=test['country'].map(dic3)\r\n",
        "test['education_level']=test['education_level'].map(dic4)\r\n",
        "test['marital_status']=test['marital_status'].map(dic5)\r\n",
        "test['relationship_with_head'] = test['relationship_with_head'].map(dic6)\r\n",
        "test['job_type']=test['job_type'].map(dic7)"
      ],
      "execution_count": 28,
      "outputs": []
    },
    {
      "cell_type": "markdown",
      "metadata": {
        "id": "n2cxwwCSHjtf"
      },
      "source": [
        "## visualization and plotting explore the features  showing the statistics/correlations"
      ]
    },
    {
      "cell_type": "code",
      "metadata": {
        "id": "Mh_OnQQy4g7k"
      },
      "source": [
        "#define plot_correlation_map fuction\r\n",
        "def plot_correlation_map( df ):\r\n",
        "    corr = df.corr()\r\n",
        "    s , ax = plt.subplots( figsize =( 20 , 20 ) )\r\n",
        "    cmap = sns.diverging_palette( 175, 20 , as_cmap = True )\r\n",
        "    s = sns.heatmap(\r\n",
        "        corr, \r\n",
        "        cmap = cmap,\r\n",
        "        square=True, \r\n",
        "        cbar_kws={ 'shrink' : .9 }, \r\n",
        "        ax=ax, \r\n",
        "        annot = True, \r\n",
        "        annot_kws = { 'fontsize' : 10 }\r\n",
        "        )"
      ],
      "execution_count": 29,
      "outputs": []
    },
    {
      "cell_type": "code",
      "metadata": {
        "colab": {
          "base_uri": "https://localhost:8080/",
          "height": 1000
        },
        "id": "JJXC5fcN4nRP",
        "outputId": "c29c44ca-4801-4cfb-e5c3-c69752ad3d60"
      },
      "source": [
        "#plotting clean train and  the correlations \r\n",
        "plot_correlation_map(train_cleaned)\r\n"
      ],
      "execution_count": 30,
      "outputs": [
        {
          "output_type": "display_data",
          "data": {
            "image/png": "[encoded data removed]",
            "text/plain": [
              "<Figure size 1440x1440 with 2 Axes>"
            ]
          },
          "metadata": {
            "tags": [],
            "needs_background": "light"
          }
        }
      ]
    },
    {
      "cell_type": "markdown",
      "metadata": {
        "id": "16wzRYJUkp2k"
      },
      "source": [
        "# Splitting DATA"
      ]
    },
    {
      "cell_type": "code",
      "metadata": {
        "id": "DGCTSr3I48J1"
      },
      "source": [
        "#splitting Data 30/70\r\n",
        "X= train_cleaned[[\"year\",\"location_type\",\"cellphone_access\",\"household_size\",\"age_of_respondent\",\"relationship_with_head\",\"marital_status\",\"education_level\",\"job_type\",\"Female\",\"Male\",\"Kenya\",\"Tanzania\",\"Rwanda\",\"Uganda\",\"Has_Education\",\"works_for_gov\"]]\r\n",
        "y=train_cleaned[\"bank_account\"]\r\n",
        "X_train, X_test, y_train, y_test = train_test_split(X, y, test_size=0.30, random_state=30)"
      ],
      "execution_count": 31,
      "outputs": []
    },
    {
      "cell_type": "code",
      "metadata": {
        "id": "nW_DrC8Y5CRM"
      },
      "source": [
        "#splitting Data 20/80\r\n",
        "\r\n",
        "X_train, X_test, y_train, y_test = train_test_split(\r\n",
        "    train_cleaned2.drop(columns=[\"bank_account\"]),\r\n",
        "    train_cleaned2[\"bank_account\"],\r\n",
        "    test_size=0.2, \r\n",
        "    random_state=20)"
      ],
      "execution_count": 32,
      "outputs": []
    },
    {
      "cell_type": "code",
      "metadata": {
        "colab": {
          "base_uri": "https://localhost:8080/"
        },
        "id": "sSiy87IW_ccl",
        "outputId": "e3fb5488-d1dc-47a7-e736-54a794b11610"
      },
      "source": [
        "#display number of rows and columns\r\n",
        "train.shape"
      ],
      "execution_count": 33,
      "outputs": [
        {
          "output_type": "execute_result",
          "data": {
            "text/plain": [
              "(23524, 15)"
            ]
          },
          "metadata": {
            "tags": []
          },
          "execution_count": 33
        }
      ]
    },
    {
      "cell_type": "code",
      "metadata": {
        "colab": {
          "base_uri": "https://localhost:8080/"
        },
        "id": "1fR8o3Yb_qwm",
        "outputId": "8cc31aa0-6614-4cf1-997c-54b67d8ec6d5"
      },
      "source": [
        "train.info()"
      ],
      "execution_count": 34,
      "outputs": [
        {
          "output_type": "stream",
          "text": [
            "<class 'pandas.core.frame.DataFrame'>\n",
            "RangeIndex: 23524 entries, 0 to 23523\n",
            "Data columns (total 15 columns):\n",
            " #   Column                  Non-Null Count  Dtype \n",
            "---  ------                  --------------  ----- \n",
            " 0   country                 23524 non-null  int64 \n",
            " 1   year                    23524 non-null  int64 \n",
            " 2   uniqueid                23524 non-null  object\n",
            " 3   bank_account            23524 non-null  object\n",
            " 4   location_type           23524 non-null  int64 \n",
            " 5   cellphone_access        23524 non-null  int64 \n",
            " 6   household_size          23524 non-null  int64 \n",
            " 7   age_of_respondent       23524 non-null  int64 \n",
            " 8   gender_of_respondent    23524 non-null  object\n",
            " 9   relationship_with_head  23524 non-null  int64 \n",
            " 10  marital_status          23524 non-null  int64 \n",
            " 11  education_level         23524 non-null  int64 \n",
            " 12  job_type                23524 non-null  int64 \n",
            " 13  Has_Education           23524 non-null  int64 \n",
            " 14  works_for_gov           23524 non-null  int64 \n",
            "dtypes: int64(12), object(3)\n",
            "memory usage: 2.7+ MB\n"
          ],
          "name": "stdout"
        }
      ]
    },
    {
      "cell_type": "code",
      "metadata": {
        "colab": {
          "base_uri": "https://localhost:8080/",
          "height": 426
        },
        "id": "OEwyMeJeAtAC",
        "outputId": "69f36384-1a3b-4bf8-9380-12c4fd1537f8"
      },
      "source": [
        "train.isna()"
      ],
      "execution_count": 35,
      "outputs": [
        {
          "output_type": "execute_result",
          "data": {
            "text/html": [
              "<div>\n",
              "<style scoped>\n",
              "    .dataframe tbody tr th:only-of-type {\n",
              "        vertical-align: middle;\n",
              "    }\n",
              "\n",
              "    .dataframe tbody tr th {\n",
              "        vertical-align: top;\n",
              "    }\n",
              "\n",
              "    .dataframe thead th {\n",
              "        text-align: right;\n",
              "    }\n",
              "</style>\n",
              "<table border=\"1\" class=\"dataframe\">\n",
              "  <thead>\n",
              "    <tr style=\"text-align: right;\">\n",
              "      <th></th>\n",
              "      <th>country</th>\n",
              "      <th>year</th>\n",
              "      <th>uniqueid</th>\n",
              "      <th>bank_account</th>\n",
              "      <th>location_type</th>\n",
              "      <th>cellphone_access</th>\n",
              "      <th>household_size</th>\n",
              "      <th>age_of_respondent</th>\n",
              "      <th>gender_of_respondent</th>\n",
              "      <th>relationship_with_head</th>\n",
              "      <th>marital_status</th>\n",
              "      <th>education_level</th>\n",
              "      <th>job_type</th>\n",
              "      <th>Has_Education</th>\n",
              "      <th>works_for_gov</th>\n",
              "    </tr>\n",
              "  </thead>\n",
              "  <tbody>\n",
              "    <tr>\n",
              "      <th>0</th>\n",
              "      <td>False</td>\n",
              "      <td>False</td>\n",
              "      <td>False</td>\n",
              "      <td>False</td>\n",
              "      <td>False</td>\n",
              "      <td>False</td>\n",
              "      <td>False</td>\n",
              "      <td>False</td>\n",
              "      <td>False</td>\n",
              "      <td>False</td>\n",
              "      <td>False</td>\n",
              "      <td>False</td>\n",
              "      <td>False</td>\n",
              "      <td>False</td>\n",
              "      <td>False</td>\n",
              "    </tr>\n",
              "    <tr>\n",
              "      <th>1</th>\n",
              "      <td>False</td>\n",
              "      <td>False</td>\n",
              "      <td>False</td>\n",
              "      <td>False</td>\n",
              "      <td>False</td>\n",
              "      <td>False</td>\n",
              "      <td>False</td>\n",
              "      <td>False</td>\n",
              "      <td>False</td>\n",
              "      <td>False</td>\n",
              "      <td>False</td>\n",
              "      <td>False</td>\n",
              "      <td>False</td>\n",
              "      <td>False</td>\n",
              "      <td>False</td>\n",
              "    </tr>\n",
              "    <tr>\n",
              "      <th>2</th>\n",
              "      <td>False</td>\n",
              "      <td>False</td>\n",
              "      <td>False</td>\n",
              "      <td>False</td>\n",
              "      <td>False</td>\n",
              "      <td>False</td>\n",
              "      <td>False</td>\n",
              "      <td>False</td>\n",
              "      <td>False</td>\n",
              "      <td>False</td>\n",
              "      <td>False</td>\n",
              "      <td>False</td>\n",
              "      <td>False</td>\n",
              "      <td>False</td>\n",
              "      <td>False</td>\n",
              "    </tr>\n",
              "    <tr>\n",
              "      <th>3</th>\n",
              "      <td>False</td>\n",
              "      <td>False</td>\n",
              "      <td>False</td>\n",
              "      <td>False</td>\n",
              "      <td>False</td>\n",
              "      <td>False</td>\n",
              "      <td>False</td>\n",
              "      <td>False</td>\n",
              "      <td>False</td>\n",
              "      <td>False</td>\n",
              "      <td>False</td>\n",
              "      <td>False</td>\n",
              "      <td>False</td>\n",
              "      <td>False</td>\n",
              "      <td>False</td>\n",
              "    </tr>\n",
              "    <tr>\n",
              "      <th>4</th>\n",
              "      <td>False</td>\n",
              "      <td>False</td>\n",
              "      <td>False</td>\n",
              "      <td>False</td>\n",
              "      <td>False</td>\n",
              "      <td>False</td>\n",
              "      <td>False</td>\n",
              "      <td>False</td>\n",
              "      <td>False</td>\n",
              "      <td>False</td>\n",
              "      <td>False</td>\n",
              "      <td>False</td>\n",
              "      <td>False</td>\n",
              "      <td>False</td>\n",
              "      <td>False</td>\n",
              "    </tr>\n",
              "    <tr>\n",
              "      <th>...</th>\n",
              "      <td>...</td>\n",
              "      <td>...</td>\n",
              "      <td>...</td>\n",
              "      <td>...</td>\n",
              "      <td>...</td>\n",
              "      <td>...</td>\n",
              "      <td>...</td>\n",
              "      <td>...</td>\n",
              "      <td>...</td>\n",
              "      <td>...</td>\n",
              "      <td>...</td>\n",
              "      <td>...</td>\n",
              "      <td>...</td>\n",
              "      <td>...</td>\n",
              "      <td>...</td>\n",
              "    </tr>\n",
              "    <tr>\n",
              "      <th>23519</th>\n",
              "      <td>False</td>\n",
              "      <td>False</td>\n",
              "      <td>False</td>\n",
              "      <td>False</td>\n",
              "      <td>False</td>\n",
              "      <td>False</td>\n",
              "      <td>False</td>\n",
              "      <td>False</td>\n",
              "      <td>False</td>\n",
              "      <td>False</td>\n",
              "      <td>False</td>\n",
              "      <td>False</td>\n",
              "      <td>False</td>\n",
              "      <td>False</td>\n",
              "      <td>False</td>\n",
              "    </tr>\n",
              "    <tr>\n",
              "      <th>23520</th>\n",
              "      <td>False</td>\n",
              "      <td>False</td>\n",
              "      <td>False</td>\n",
              "      <td>False</td>\n",
              "      <td>False</td>\n",
              "      <td>False</td>\n",
              "      <td>False</td>\n",
              "      <td>False</td>\n",
              "      <td>False</td>\n",
              "      <td>False</td>\n",
              "      <td>False</td>\n",
              "      <td>False</td>\n",
              "      <td>False</td>\n",
              "      <td>False</td>\n",
              "      <td>False</td>\n",
              "    </tr>\n",
              "    <tr>\n",
              "      <th>23521</th>\n",
              "      <td>False</td>\n",
              "      <td>False</td>\n",
              "      <td>False</td>\n",
              "      <td>False</td>\n",
              "      <td>False</td>\n",
              "      <td>False</td>\n",
              "      <td>False</td>\n",
              "      <td>False</td>\n",
              "      <td>False</td>\n",
              "      <td>False</td>\n",
              "      <td>False</td>\n",
              "      <td>False</td>\n",
              "      <td>False</td>\n",
              "      <td>False</td>\n",
              "      <td>False</td>\n",
              "    </tr>\n",
              "    <tr>\n",
              "      <th>23522</th>\n",
              "      <td>False</td>\n",
              "      <td>False</td>\n",
              "      <td>False</td>\n",
              "      <td>False</td>\n",
              "      <td>False</td>\n",
              "      <td>False</td>\n",
              "      <td>False</td>\n",
              "      <td>False</td>\n",
              "      <td>False</td>\n",
              "      <td>False</td>\n",
              "      <td>False</td>\n",
              "      <td>False</td>\n",
              "      <td>False</td>\n",
              "      <td>False</td>\n",
              "      <td>False</td>\n",
              "    </tr>\n",
              "    <tr>\n",
              "      <th>23523</th>\n",
              "      <td>False</td>\n",
              "      <td>False</td>\n",
              "      <td>False</td>\n",
              "      <td>False</td>\n",
              "      <td>False</td>\n",
              "      <td>False</td>\n",
              "      <td>False</td>\n",
              "      <td>False</td>\n",
              "      <td>False</td>\n",
              "      <td>False</td>\n",
              "      <td>False</td>\n",
              "      <td>False</td>\n",
              "      <td>False</td>\n",
              "      <td>False</td>\n",
              "      <td>False</td>\n",
              "    </tr>\n",
              "  </tbody>\n",
              "</table>\n",
              "<p>23524 rows × 15 columns</p>\n",
              "</div>"
            ],
            "text/plain": [
              "       country   year  uniqueid  ...  job_type  Has_Education  works_for_gov\n",
              "0        False  False     False  ...     False          False          False\n",
              "1        False  False     False  ...     False          False          False\n",
              "2        False  False     False  ...     False          False          False\n",
              "3        False  False     False  ...     False          False          False\n",
              "4        False  False     False  ...     False          False          False\n",
              "...        ...    ...       ...  ...       ...            ...            ...\n",
              "23519    False  False     False  ...     False          False          False\n",
              "23520    False  False     False  ...     False          False          False\n",
              "23521    False  False     False  ...     False          False          False\n",
              "23522    False  False     False  ...     False          False          False\n",
              "23523    False  False     False  ...     False          False          False\n",
              "\n",
              "[23524 rows x 15 columns]"
            ]
          },
          "metadata": {
            "tags": []
          },
          "execution_count": 35
        }
      ]
    },
    {
      "cell_type": "code",
      "metadata": {
        "colab": {
          "base_uri": "https://localhost:8080/",
          "height": 426
        },
        "id": "EMbIIi6LBBkp",
        "outputId": "304e581c-4a45-487d-e26b-c02aea3f33d5"
      },
      "source": [
        "train.isnull()"
      ],
      "execution_count": 36,
      "outputs": [
        {
          "output_type": "execute_result",
          "data": {
            "text/html": [
              "<div>\n",
              "<style scoped>\n",
              "    .dataframe tbody tr th:only-of-type {\n",
              "        vertical-align: middle;\n",
              "    }\n",
              "\n",
              "    .dataframe tbody tr th {\n",
              "        vertical-align: top;\n",
              "    }\n",
              "\n",
              "    .dataframe thead th {\n",
              "        text-align: right;\n",
              "    }\n",
              "</style>\n",
              "<table border=\"1\" class=\"dataframe\">\n",
              "  <thead>\n",
              "    <tr style=\"text-align: right;\">\n",
              "      <th></th>\n",
              "      <th>country</th>\n",
              "      <th>year</th>\n",
              "      <th>uniqueid</th>\n",
              "      <th>bank_account</th>\n",
              "      <th>location_type</th>\n",
              "      <th>cellphone_access</th>\n",
              "      <th>household_size</th>\n",
              "      <th>age_of_respondent</th>\n",
              "      <th>gender_of_respondent</th>\n",
              "      <th>relationship_with_head</th>\n",
              "      <th>marital_status</th>\n",
              "      <th>education_level</th>\n",
              "      <th>job_type</th>\n",
              "      <th>Has_Education</th>\n",
              "      <th>works_for_gov</th>\n",
              "    </tr>\n",
              "  </thead>\n",
              "  <tbody>\n",
              "    <tr>\n",
              "      <th>0</th>\n",
              "      <td>False</td>\n",
              "      <td>False</td>\n",
              "      <td>False</td>\n",
              "      <td>False</td>\n",
              "      <td>False</td>\n",
              "      <td>False</td>\n",
              "      <td>False</td>\n",
              "      <td>False</td>\n",
              "      <td>False</td>\n",
              "      <td>False</td>\n",
              "      <td>False</td>\n",
              "      <td>False</td>\n",
              "      <td>False</td>\n",
              "      <td>False</td>\n",
              "      <td>False</td>\n",
              "    </tr>\n",
              "    <tr>\n",
              "      <th>1</th>\n",
              "      <td>False</td>\n",
              "      <td>False</td>\n",
              "      <td>False</td>\n",
              "      <td>False</td>\n",
              "      <td>False</td>\n",
              "      <td>False</td>\n",
              "      <td>False</td>\n",
              "      <td>False</td>\n",
              "      <td>False</td>\n",
              "      <td>False</td>\n",
              "      <td>False</td>\n",
              "      <td>False</td>\n",
              "      <td>False</td>\n",
              "      <td>False</td>\n",
              "      <td>False</td>\n",
              "    </tr>\n",
              "    <tr>\n",
              "      <th>2</th>\n",
              "      <td>False</td>\n",
              "      <td>False</td>\n",
              "      <td>False</td>\n",
              "      <td>False</td>\n",
              "      <td>False</td>\n",
              "      <td>False</td>\n",
              "      <td>False</td>\n",
              "      <td>False</td>\n",
              "      <td>False</td>\n",
              "      <td>False</td>\n",
              "      <td>False</td>\n",
              "      <td>False</td>\n",
              "      <td>False</td>\n",
              "      <td>False</td>\n",
              "      <td>False</td>\n",
              "    </tr>\n",
              "    <tr>\n",
              "      <th>3</th>\n",
              "      <td>False</td>\n",
              "      <td>False</td>\n",
              "      <td>False</td>\n",
              "      <td>False</td>\n",
              "      <td>False</td>\n",
              "      <td>False</td>\n",
              "      <td>False</td>\n",
              "      <td>False</td>\n",
              "      <td>False</td>\n",
              "      <td>False</td>\n",
              "      <td>False</td>\n",
              "      <td>False</td>\n",
              "      <td>False</td>\n",
              "      <td>False</td>\n",
              "      <td>False</td>\n",
              "    </tr>\n",
              "    <tr>\n",
              "      <th>4</th>\n",
              "      <td>False</td>\n",
              "      <td>False</td>\n",
              "      <td>False</td>\n",
              "      <td>False</td>\n",
              "      <td>False</td>\n",
              "      <td>False</td>\n",
              "      <td>False</td>\n",
              "      <td>False</td>\n",
              "      <td>False</td>\n",
              "      <td>False</td>\n",
              "      <td>False</td>\n",
              "      <td>False</td>\n",
              "      <td>False</td>\n",
              "      <td>False</td>\n",
              "      <td>False</td>\n",
              "    </tr>\n",
              "    <tr>\n",
              "      <th>...</th>\n",
              "      <td>...</td>\n",
              "      <td>...</td>\n",
              "      <td>...</td>\n",
              "      <td>...</td>\n",
              "      <td>...</td>\n",
              "      <td>...</td>\n",
              "      <td>...</td>\n",
              "      <td>...</td>\n",
              "      <td>...</td>\n",
              "      <td>...</td>\n",
              "      <td>...</td>\n",
              "      <td>...</td>\n",
              "      <td>...</td>\n",
              "      <td>...</td>\n",
              "      <td>...</td>\n",
              "    </tr>\n",
              "    <tr>\n",
              "      <th>23519</th>\n",
              "      <td>False</td>\n",
              "      <td>False</td>\n",
              "      <td>False</td>\n",
              "      <td>False</td>\n",
              "      <td>False</td>\n",
              "      <td>False</td>\n",
              "      <td>False</td>\n",
              "      <td>False</td>\n",
              "      <td>False</td>\n",
              "      <td>False</td>\n",
              "      <td>False</td>\n",
              "      <td>False</td>\n",
              "      <td>False</td>\n",
              "      <td>False</td>\n",
              "      <td>False</td>\n",
              "    </tr>\n",
              "    <tr>\n",
              "      <th>23520</th>\n",
              "      <td>False</td>\n",
              "      <td>False</td>\n",
              "      <td>False</td>\n",
              "      <td>False</td>\n",
              "      <td>False</td>\n",
              "      <td>False</td>\n",
              "      <td>False</td>\n",
              "      <td>False</td>\n",
              "      <td>False</td>\n",
              "      <td>False</td>\n",
              "      <td>False</td>\n",
              "      <td>False</td>\n",
              "      <td>False</td>\n",
              "      <td>False</td>\n",
              "      <td>False</td>\n",
              "    </tr>\n",
              "    <tr>\n",
              "      <th>23521</th>\n",
              "      <td>False</td>\n",
              "      <td>False</td>\n",
              "      <td>False</td>\n",
              "      <td>False</td>\n",
              "      <td>False</td>\n",
              "      <td>False</td>\n",
              "      <td>False</td>\n",
              "      <td>False</td>\n",
              "      <td>False</td>\n",
              "      <td>False</td>\n",
              "      <td>False</td>\n",
              "      <td>False</td>\n",
              "      <td>False</td>\n",
              "      <td>False</td>\n",
              "      <td>False</td>\n",
              "    </tr>\n",
              "    <tr>\n",
              "      <th>23522</th>\n",
              "      <td>False</td>\n",
              "      <td>False</td>\n",
              "      <td>False</td>\n",
              "      <td>False</td>\n",
              "      <td>False</td>\n",
              "      <td>False</td>\n",
              "      <td>False</td>\n",
              "      <td>False</td>\n",
              "      <td>False</td>\n",
              "      <td>False</td>\n",
              "      <td>False</td>\n",
              "      <td>False</td>\n",
              "      <td>False</td>\n",
              "      <td>False</td>\n",
              "      <td>False</td>\n",
              "    </tr>\n",
              "    <tr>\n",
              "      <th>23523</th>\n",
              "      <td>False</td>\n",
              "      <td>False</td>\n",
              "      <td>False</td>\n",
              "      <td>False</td>\n",
              "      <td>False</td>\n",
              "      <td>False</td>\n",
              "      <td>False</td>\n",
              "      <td>False</td>\n",
              "      <td>False</td>\n",
              "      <td>False</td>\n",
              "      <td>False</td>\n",
              "      <td>False</td>\n",
              "      <td>False</td>\n",
              "      <td>False</td>\n",
              "      <td>False</td>\n",
              "    </tr>\n",
              "  </tbody>\n",
              "</table>\n",
              "<p>23524 rows × 15 columns</p>\n",
              "</div>"
            ],
            "text/plain": [
              "       country   year  uniqueid  ...  job_type  Has_Education  works_for_gov\n",
              "0        False  False     False  ...     False          False          False\n",
              "1        False  False     False  ...     False          False          False\n",
              "2        False  False     False  ...     False          False          False\n",
              "3        False  False     False  ...     False          False          False\n",
              "4        False  False     False  ...     False          False          False\n",
              "...        ...    ...       ...  ...       ...            ...            ...\n",
              "23519    False  False     False  ...     False          False          False\n",
              "23520    False  False     False  ...     False          False          False\n",
              "23521    False  False     False  ...     False          False          False\n",
              "23522    False  False     False  ...     False          False          False\n",
              "23523    False  False     False  ...     False          False          False\n",
              "\n",
              "[23524 rows x 15 columns]"
            ]
          },
          "metadata": {
            "tags": []
          },
          "execution_count": 36
        }
      ]
    },
    {
      "cell_type": "code",
      "metadata": {
        "colab": {
          "base_uri": "https://localhost:8080/",
          "height": 426
        },
        "id": "HYL18zcIB3Gn",
        "outputId": "b524ffdb-c328-4177-8ba0-9feb9a6e1023"
      },
      "source": [
        "train"
      ],
      "execution_count": 37,
      "outputs": [
        {
          "output_type": "execute_result",
          "data": {
            "text/html": [
              "<div>\n",
              "<style scoped>\n",
              "    .dataframe tbody tr th:only-of-type {\n",
              "        vertical-align: middle;\n",
              "    }\n",
              "\n",
              "    .dataframe tbody tr th {\n",
              "        vertical-align: top;\n",
              "    }\n",
              "\n",
              "    .dataframe thead th {\n",
              "        text-align: right;\n",
              "    }\n",
              "</style>\n",
              "<table border=\"1\" class=\"dataframe\">\n",
              "  <thead>\n",
              "    <tr style=\"text-align: right;\">\n",
              "      <th></th>\n",
              "      <th>country</th>\n",
              "      <th>year</th>\n",
              "      <th>uniqueid</th>\n",
              "      <th>bank_account</th>\n",
              "      <th>location_type</th>\n",
              "      <th>cellphone_access</th>\n",
              "      <th>household_size</th>\n",
              "      <th>age_of_respondent</th>\n",
              "      <th>gender_of_respondent</th>\n",
              "      <th>relationship_with_head</th>\n",
              "      <th>marital_status</th>\n",
              "      <th>education_level</th>\n",
              "      <th>job_type</th>\n",
              "      <th>Has_Education</th>\n",
              "      <th>works_for_gov</th>\n",
              "    </tr>\n",
              "  </thead>\n",
              "  <tbody>\n",
              "    <tr>\n",
              "      <th>0</th>\n",
              "      <td>3</td>\n",
              "      <td>2018</td>\n",
              "      <td>uniqueid_1</td>\n",
              "      <td>Yes</td>\n",
              "      <td>0</td>\n",
              "      <td>1</td>\n",
              "      <td>3</td>\n",
              "      <td>24</td>\n",
              "      <td>Female</td>\n",
              "      <td>4</td>\n",
              "      <td>4</td>\n",
              "      <td>4</td>\n",
              "      <td>9</td>\n",
              "      <td>1</td>\n",
              "      <td>0</td>\n",
              "    </tr>\n",
              "    <tr>\n",
              "      <th>1</th>\n",
              "      <td>3</td>\n",
              "      <td>2018</td>\n",
              "      <td>uniqueid_2</td>\n",
              "      <td>No</td>\n",
              "      <td>0</td>\n",
              "      <td>0</td>\n",
              "      <td>5</td>\n",
              "      <td>70</td>\n",
              "      <td>Female</td>\n",
              "      <td>5</td>\n",
              "      <td>2</td>\n",
              "      <td>1</td>\n",
              "      <td>2</td>\n",
              "      <td>0</td>\n",
              "      <td>1</td>\n",
              "    </tr>\n",
              "    <tr>\n",
              "      <th>2</th>\n",
              "      <td>3</td>\n",
              "      <td>2018</td>\n",
              "      <td>uniqueid_3</td>\n",
              "      <td>Yes</td>\n",
              "      <td>1</td>\n",
              "      <td>1</td>\n",
              "      <td>5</td>\n",
              "      <td>26</td>\n",
              "      <td>Male</td>\n",
              "      <td>2</td>\n",
              "      <td>3</td>\n",
              "      <td>2</td>\n",
              "      <td>9</td>\n",
              "      <td>0</td>\n",
              "      <td>0</td>\n",
              "    </tr>\n",
              "    <tr>\n",
              "      <th>3</th>\n",
              "      <td>3</td>\n",
              "      <td>2018</td>\n",
              "      <td>uniqueid_4</td>\n",
              "      <td>No</td>\n",
              "      <td>0</td>\n",
              "      <td>1</td>\n",
              "      <td>5</td>\n",
              "      <td>34</td>\n",
              "      <td>Female</td>\n",
              "      <td>5</td>\n",
              "      <td>4</td>\n",
              "      <td>5</td>\n",
              "      <td>7</td>\n",
              "      <td>1</td>\n",
              "      <td>0</td>\n",
              "    </tr>\n",
              "    <tr>\n",
              "      <th>4</th>\n",
              "      <td>3</td>\n",
              "      <td>2018</td>\n",
              "      <td>uniqueid_5</td>\n",
              "      <td>No</td>\n",
              "      <td>1</td>\n",
              "      <td>0</td>\n",
              "      <td>8</td>\n",
              "      <td>26</td>\n",
              "      <td>Male</td>\n",
              "      <td>3</td>\n",
              "      <td>3</td>\n",
              "      <td>5</td>\n",
              "      <td>6</td>\n",
              "      <td>1</td>\n",
              "      <td>0</td>\n",
              "    </tr>\n",
              "    <tr>\n",
              "      <th>...</th>\n",
              "      <td>...</td>\n",
              "      <td>...</td>\n",
              "      <td>...</td>\n",
              "      <td>...</td>\n",
              "      <td>...</td>\n",
              "      <td>...</td>\n",
              "      <td>...</td>\n",
              "      <td>...</td>\n",
              "      <td>...</td>\n",
              "      <td>...</td>\n",
              "      <td>...</td>\n",
              "      <td>...</td>\n",
              "      <td>...</td>\n",
              "      <td>...</td>\n",
              "      <td>...</td>\n",
              "    </tr>\n",
              "    <tr>\n",
              "      <th>23519</th>\n",
              "      <td>0</td>\n",
              "      <td>2018</td>\n",
              "      <td>uniqueid_2113</td>\n",
              "      <td>No</td>\n",
              "      <td>0</td>\n",
              "      <td>1</td>\n",
              "      <td>4</td>\n",
              "      <td>48</td>\n",
              "      <td>Female</td>\n",
              "      <td>5</td>\n",
              "      <td>1</td>\n",
              "      <td>1</td>\n",
              "      <td>3</td>\n",
              "      <td>0</td>\n",
              "      <td>0</td>\n",
              "    </tr>\n",
              "    <tr>\n",
              "      <th>23520</th>\n",
              "      <td>0</td>\n",
              "      <td>2018</td>\n",
              "      <td>uniqueid_2114</td>\n",
              "      <td>No</td>\n",
              "      <td>0</td>\n",
              "      <td>1</td>\n",
              "      <td>2</td>\n",
              "      <td>27</td>\n",
              "      <td>Female</td>\n",
              "      <td>5</td>\n",
              "      <td>3</td>\n",
              "      <td>4</td>\n",
              "      <td>3</td>\n",
              "      <td>1</td>\n",
              "      <td>0</td>\n",
              "    </tr>\n",
              "    <tr>\n",
              "      <th>23521</th>\n",
              "      <td>0</td>\n",
              "      <td>2018</td>\n",
              "      <td>uniqueid_2115</td>\n",
              "      <td>No</td>\n",
              "      <td>0</td>\n",
              "      <td>1</td>\n",
              "      <td>5</td>\n",
              "      <td>27</td>\n",
              "      <td>Female</td>\n",
              "      <td>1</td>\n",
              "      <td>2</td>\n",
              "      <td>5</td>\n",
              "      <td>3</td>\n",
              "      <td>1</td>\n",
              "      <td>0</td>\n",
              "    </tr>\n",
              "    <tr>\n",
              "      <th>23522</th>\n",
              "      <td>0</td>\n",
              "      <td>2018</td>\n",
              "      <td>uniqueid_2116</td>\n",
              "      <td>No</td>\n",
              "      <td>1</td>\n",
              "      <td>1</td>\n",
              "      <td>7</td>\n",
              "      <td>30</td>\n",
              "      <td>Female</td>\n",
              "      <td>1</td>\n",
              "      <td>1</td>\n",
              "      <td>4</td>\n",
              "      <td>9</td>\n",
              "      <td>1</td>\n",
              "      <td>0</td>\n",
              "    </tr>\n",
              "    <tr>\n",
              "      <th>23523</th>\n",
              "      <td>0</td>\n",
              "      <td>2018</td>\n",
              "      <td>uniqueid_2117</td>\n",
              "      <td>No</td>\n",
              "      <td>0</td>\n",
              "      <td>1</td>\n",
              "      <td>10</td>\n",
              "      <td>20</td>\n",
              "      <td>Male</td>\n",
              "      <td>3</td>\n",
              "      <td>3</td>\n",
              "      <td>4</td>\n",
              "      <td>0</td>\n",
              "      <td>1</td>\n",
              "      <td>0</td>\n",
              "    </tr>\n",
              "  </tbody>\n",
              "</table>\n",
              "<p>23524 rows × 15 columns</p>\n",
              "</div>"
            ],
            "text/plain": [
              "       country  year       uniqueid  ... job_type  Has_Education  works_for_gov\n",
              "0            3  2018     uniqueid_1  ...        9              1              0\n",
              "1            3  2018     uniqueid_2  ...        2              0              1\n",
              "2            3  2018     uniqueid_3  ...        9              0              0\n",
              "3            3  2018     uniqueid_4  ...        7              1              0\n",
              "4            3  2018     uniqueid_5  ...        6              1              0\n",
              "...        ...   ...            ...  ...      ...            ...            ...\n",
              "23519        0  2018  uniqueid_2113  ...        3              0              0\n",
              "23520        0  2018  uniqueid_2114  ...        3              1              0\n",
              "23521        0  2018  uniqueid_2115  ...        3              1              0\n",
              "23522        0  2018  uniqueid_2116  ...        9              1              0\n",
              "23523        0  2018  uniqueid_2117  ...        0              1              0\n",
              "\n",
              "[23524 rows x 15 columns]"
            ]
          },
          "metadata": {
            "tags": []
          },
          "execution_count": 37
        }
      ]
    },
    {
      "cell_type": "code",
      "metadata": {
        "colab": {
          "base_uri": "https://localhost:8080/"
        },
        "id": "migXK-SfFB9Q",
        "outputId": "a1dc0e46-1800-4266-835c-5f9c62d4ced1"
      },
      "source": [
        "train.info()"
      ],
      "execution_count": 38,
      "outputs": [
        {
          "output_type": "stream",
          "text": [
            "<class 'pandas.core.frame.DataFrame'>\n",
            "RangeIndex: 23524 entries, 0 to 23523\n",
            "Data columns (total 15 columns):\n",
            " #   Column                  Non-Null Count  Dtype \n",
            "---  ------                  --------------  ----- \n",
            " 0   country                 23524 non-null  int64 \n",
            " 1   year                    23524 non-null  int64 \n",
            " 2   uniqueid                23524 non-null  object\n",
            " 3   bank_account            23524 non-null  object\n",
            " 4   location_type           23524 non-null  int64 \n",
            " 5   cellphone_access        23524 non-null  int64 \n",
            " 6   household_size          23524 non-null  int64 \n",
            " 7   age_of_respondent       23524 non-null  int64 \n",
            " 8   gender_of_respondent    23524 non-null  object\n",
            " 9   relationship_with_head  23524 non-null  int64 \n",
            " 10  marital_status          23524 non-null  int64 \n",
            " 11  education_level         23524 non-null  int64 \n",
            " 12  job_type                23524 non-null  int64 \n",
            " 13  Has_Education           23524 non-null  int64 \n",
            " 14  works_for_gov           23524 non-null  int64 \n",
            "dtypes: int64(12), object(3)\n",
            "memory usage: 2.7+ MB\n"
          ],
          "name": "stdout"
        }
      ]
    },
    {
      "cell_type": "code",
      "metadata": {
        "colab": {
          "base_uri": "https://localhost:8080/"
        },
        "id": "gJdMnQsWGHGm",
        "outputId": "10ffe155-8823-4aab-d4fa-2b2b8a2782de"
      },
      "source": [
        "train.isnull().sum()"
      ],
      "execution_count": 39,
      "outputs": [
        {
          "output_type": "execute_result",
          "data": {
            "text/plain": [
              "country                   0\n",
              "year                      0\n",
              "uniqueid                  0\n",
              "bank_account              0\n",
              "location_type             0\n",
              "cellphone_access          0\n",
              "household_size            0\n",
              "age_of_respondent         0\n",
              "gender_of_respondent      0\n",
              "relationship_with_head    0\n",
              "marital_status            0\n",
              "education_level           0\n",
              "job_type                  0\n",
              "Has_Education             0\n",
              "works_for_gov             0\n",
              "dtype: int64"
            ]
          },
          "metadata": {
            "tags": []
          },
          "execution_count": 39
        }
      ]
    },
    {
      "cell_type": "code",
      "metadata": {
        "colab": {
          "base_uri": "https://localhost:8080/",
          "height": 426
        },
        "id": "xR7KlUqqL-OH",
        "outputId": "121a505a-85f1-4693-9046-c53eb68def71"
      },
      "source": [
        "train.isnull()"
      ],
      "execution_count": 40,
      "outputs": [
        {
          "output_type": "execute_result",
          "data": {
            "text/html": [
              "<div>\n",
              "<style scoped>\n",
              "    .dataframe tbody tr th:only-of-type {\n",
              "        vertical-align: middle;\n",
              "    }\n",
              "\n",
              "    .dataframe tbody tr th {\n",
              "        vertical-align: top;\n",
              "    }\n",
              "\n",
              "    .dataframe thead th {\n",
              "        text-align: right;\n",
              "    }\n",
              "</style>\n",
              "<table border=\"1\" class=\"dataframe\">\n",
              "  <thead>\n",
              "    <tr style=\"text-align: right;\">\n",
              "      <th></th>\n",
              "      <th>country</th>\n",
              "      <th>year</th>\n",
              "      <th>uniqueid</th>\n",
              "      <th>bank_account</th>\n",
              "      <th>location_type</th>\n",
              "      <th>cellphone_access</th>\n",
              "      <th>household_size</th>\n",
              "      <th>age_of_respondent</th>\n",
              "      <th>gender_of_respondent</th>\n",
              "      <th>relationship_with_head</th>\n",
              "      <th>marital_status</th>\n",
              "      <th>education_level</th>\n",
              "      <th>job_type</th>\n",
              "      <th>Has_Education</th>\n",
              "      <th>works_for_gov</th>\n",
              "    </tr>\n",
              "  </thead>\n",
              "  <tbody>\n",
              "    <tr>\n",
              "      <th>0</th>\n",
              "      <td>False</td>\n",
              "      <td>False</td>\n",
              "      <td>False</td>\n",
              "      <td>False</td>\n",
              "      <td>False</td>\n",
              "      <td>False</td>\n",
              "      <td>False</td>\n",
              "      <td>False</td>\n",
              "      <td>False</td>\n",
              "      <td>False</td>\n",
              "      <td>False</td>\n",
              "      <td>False</td>\n",
              "      <td>False</td>\n",
              "      <td>False</td>\n",
              "      <td>False</td>\n",
              "    </tr>\n",
              "    <tr>\n",
              "      <th>1</th>\n",
              "      <td>False</td>\n",
              "      <td>False</td>\n",
              "      <td>False</td>\n",
              "      <td>False</td>\n",
              "      <td>False</td>\n",
              "      <td>False</td>\n",
              "      <td>False</td>\n",
              "      <td>False</td>\n",
              "      <td>False</td>\n",
              "      <td>False</td>\n",
              "      <td>False</td>\n",
              "      <td>False</td>\n",
              "      <td>False</td>\n",
              "      <td>False</td>\n",
              "      <td>False</td>\n",
              "    </tr>\n",
              "    <tr>\n",
              "      <th>2</th>\n",
              "      <td>False</td>\n",
              "      <td>False</td>\n",
              "      <td>False</td>\n",
              "      <td>False</td>\n",
              "      <td>False</td>\n",
              "      <td>False</td>\n",
              "      <td>False</td>\n",
              "      <td>False</td>\n",
              "      <td>False</td>\n",
              "      <td>False</td>\n",
              "      <td>False</td>\n",
              "      <td>False</td>\n",
              "      <td>False</td>\n",
              "      <td>False</td>\n",
              "      <td>False</td>\n",
              "    </tr>\n",
              "    <tr>\n",
              "      <th>3</th>\n",
              "      <td>False</td>\n",
              "      <td>False</td>\n",
              "      <td>False</td>\n",
              "      <td>False</td>\n",
              "      <td>False</td>\n",
              "      <td>False</td>\n",
              "      <td>False</td>\n",
              "      <td>False</td>\n",
              "      <td>False</td>\n",
              "      <td>False</td>\n",
              "      <td>False</td>\n",
              "      <td>False</td>\n",
              "      <td>False</td>\n",
              "      <td>False</td>\n",
              "      <td>False</td>\n",
              "    </tr>\n",
              "    <tr>\n",
              "      <th>4</th>\n",
              "      <td>False</td>\n",
              "      <td>False</td>\n",
              "      <td>False</td>\n",
              "      <td>False</td>\n",
              "      <td>False</td>\n",
              "      <td>False</td>\n",
              "      <td>False</td>\n",
              "      <td>False</td>\n",
              "      <td>False</td>\n",
              "      <td>False</td>\n",
              "      <td>False</td>\n",
              "      <td>False</td>\n",
              "      <td>False</td>\n",
              "      <td>False</td>\n",
              "      <td>False</td>\n",
              "    </tr>\n",
              "    <tr>\n",
              "      <th>...</th>\n",
              "      <td>...</td>\n",
              "      <td>...</td>\n",
              "      <td>...</td>\n",
              "      <td>...</td>\n",
              "      <td>...</td>\n",
              "      <td>...</td>\n",
              "      <td>...</td>\n",
              "      <td>...</td>\n",
              "      <td>...</td>\n",
              "      <td>...</td>\n",
              "      <td>...</td>\n",
              "      <td>...</td>\n",
              "      <td>...</td>\n",
              "      <td>...</td>\n",
              "      <td>...</td>\n",
              "    </tr>\n",
              "    <tr>\n",
              "      <th>23519</th>\n",
              "      <td>False</td>\n",
              "      <td>False</td>\n",
              "      <td>False</td>\n",
              "      <td>False</td>\n",
              "      <td>False</td>\n",
              "      <td>False</td>\n",
              "      <td>False</td>\n",
              "      <td>False</td>\n",
              "      <td>False</td>\n",
              "      <td>False</td>\n",
              "      <td>False</td>\n",
              "      <td>False</td>\n",
              "      <td>False</td>\n",
              "      <td>False</td>\n",
              "      <td>False</td>\n",
              "    </tr>\n",
              "    <tr>\n",
              "      <th>23520</th>\n",
              "      <td>False</td>\n",
              "      <td>False</td>\n",
              "      <td>False</td>\n",
              "      <td>False</td>\n",
              "      <td>False</td>\n",
              "      <td>False</td>\n",
              "      <td>False</td>\n",
              "      <td>False</td>\n",
              "      <td>False</td>\n",
              "      <td>False</td>\n",
              "      <td>False</td>\n",
              "      <td>False</td>\n",
              "      <td>False</td>\n",
              "      <td>False</td>\n",
              "      <td>False</td>\n",
              "    </tr>\n",
              "    <tr>\n",
              "      <th>23521</th>\n",
              "      <td>False</td>\n",
              "      <td>False</td>\n",
              "      <td>False</td>\n",
              "      <td>False</td>\n",
              "      <td>False</td>\n",
              "      <td>False</td>\n",
              "      <td>False</td>\n",
              "      <td>False</td>\n",
              "      <td>False</td>\n",
              "      <td>False</td>\n",
              "      <td>False</td>\n",
              "      <td>False</td>\n",
              "      <td>False</td>\n",
              "      <td>False</td>\n",
              "      <td>False</td>\n",
              "    </tr>\n",
              "    <tr>\n",
              "      <th>23522</th>\n",
              "      <td>False</td>\n",
              "      <td>False</td>\n",
              "      <td>False</td>\n",
              "      <td>False</td>\n",
              "      <td>False</td>\n",
              "      <td>False</td>\n",
              "      <td>False</td>\n",
              "      <td>False</td>\n",
              "      <td>False</td>\n",
              "      <td>False</td>\n",
              "      <td>False</td>\n",
              "      <td>False</td>\n",
              "      <td>False</td>\n",
              "      <td>False</td>\n",
              "      <td>False</td>\n",
              "    </tr>\n",
              "    <tr>\n",
              "      <th>23523</th>\n",
              "      <td>False</td>\n",
              "      <td>False</td>\n",
              "      <td>False</td>\n",
              "      <td>False</td>\n",
              "      <td>False</td>\n",
              "      <td>False</td>\n",
              "      <td>False</td>\n",
              "      <td>False</td>\n",
              "      <td>False</td>\n",
              "      <td>False</td>\n",
              "      <td>False</td>\n",
              "      <td>False</td>\n",
              "      <td>False</td>\n",
              "      <td>False</td>\n",
              "      <td>False</td>\n",
              "    </tr>\n",
              "  </tbody>\n",
              "</table>\n",
              "<p>23524 rows × 15 columns</p>\n",
              "</div>"
            ],
            "text/plain": [
              "       country   year  uniqueid  ...  job_type  Has_Education  works_for_gov\n",
              "0        False  False     False  ...     False          False          False\n",
              "1        False  False     False  ...     False          False          False\n",
              "2        False  False     False  ...     False          False          False\n",
              "3        False  False     False  ...     False          False          False\n",
              "4        False  False     False  ...     False          False          False\n",
              "...        ...    ...       ...  ...       ...            ...            ...\n",
              "23519    False  False     False  ...     False          False          False\n",
              "23520    False  False     False  ...     False          False          False\n",
              "23521    False  False     False  ...     False          False          False\n",
              "23522    False  False     False  ...     False          False          False\n",
              "23523    False  False     False  ...     False          False          False\n",
              "\n",
              "[23524 rows x 15 columns]"
            ]
          },
          "metadata": {
            "tags": []
          },
          "execution_count": 40
        }
      ]
    },
    {
      "cell_type": "markdown",
      "metadata": {
        "id": "Q4xJcPZjmIu3"
      },
      "source": [
        "# **Support Vector Machines**"
      ]
    },
    {
      "cell_type": "code",
      "metadata": {
        "id": "05ZK1m21jt4h"
      },
      "source": [
        "#import SVC from sklearn svm\r\n",
        "from sklearn.svm import SVC\r\n"
      ],
      "execution_count": 41,
      "outputs": []
    },
    {
      "cell_type": "code",
      "metadata": {
        "colab": {
          "base_uri": "https://localhost:8080/"
        },
        "id": "UYyZhHIin7LO",
        "outputId": "4f8e3964-dc12-4a8d-f55a-66f561a84c4e"
      },
      "source": [
        "#create 3 types of kernel \r\n",
        "kernal=['linear','rbf','poly']\r\n",
        "for i in kernal:\r\n",
        "    model1=SVC(kernel=i,C=1.0) \r\n",
        "    model1.fit(X_train,y_train) #fitting train dataset \r\n",
        "    print(['For kernal:',i])\r\n",
        "    print('Accuracy is :',model1.score(X_test,y_test))# accuracy of kernel types"
      ],
      "execution_count": 42,
      "outputs": [
        {
          "output_type": "stream",
          "text": [
            "['For kernal:', 'linear']\n",
            "Accuracy is : 0.8743889479277365\n",
            "['For kernal:', 'rbf']\n",
            "Accuracy is : 0.8578108395324123\n",
            "['For kernal:', 'poly']\n",
            "Accuracy is : 0.8578108395324123\n"
          ],
          "name": "stdout"
        }
      ]
    },
    {
      "cell_type": "code",
      "metadata": {
        "colab": {
          "base_uri": "https://localhost:8080/"
        },
        "id": "Zj82DP4goa9v",
        "outputId": "9f8424c4-77a6-4b96-b554-8ed4b4dbc6b9"
      },
      "source": [
        "#fitting and output the Accuracy on training and testing\r\n",
        "model1=SVC()\r\n",
        "model1.fit(X_train,y_train)\r\n",
        "print('Accuracy on testing data is',model1.score(X_test,y_test))\r\n",
        "print('Accuracy on training data is',model1.score(X_train,y_train))\r\n"
      ],
      "execution_count": 43,
      "outputs": [
        {
          "output_type": "stream",
          "text": [
            "Accuracy on testing data is 0.8578108395324123\n",
            "Accuracy on training data is 0.8595568308624263\n"
          ],
          "name": "stdout"
        }
      ]
    },
    {
      "cell_type": "code",
      "metadata": {
        "colab": {
          "base_uri": "https://localhost:8080/"
        },
        "id": "QtMoPwqLpc0G",
        "outputId": "27d0bf33-cae8-464d-92fe-0a664ca482ce"
      },
      "source": [
        "#loop with kernel=poly with diff degree and C=100 and notice Accuracy on testing and training\r\n",
        "for i in range(1,10):\r\n",
        "    model1=SVC(kernel='poly',degree=i,C=100)\r\n",
        "    model1.fit(X_train,y_train)\r\n",
        "    print('Accuracy on testing data is',model1.score(X_test,y_test))\r\n",
        "    print('Accuracy on training data is',model1.score(X_train,y_train))\r\n"
      ],
      "execution_count": 44,
      "outputs": [
        {
          "output_type": "stream",
          "text": [
            "Accuracy on testing data is 0.8578108395324123\n",
            "Accuracy on training data is 0.8595568308624263\n",
            "Accuracy on testing data is 0.8578108395324123\n",
            "Accuracy on training data is 0.8595568308624263\n",
            "Accuracy on testing data is 0.8578108395324123\n",
            "Accuracy on training data is 0.8595568308624263\n",
            "Accuracy on testing data is 0.8578108395324123\n",
            "Accuracy on training data is 0.8595568308624263\n",
            "Accuracy on testing data is 0.8578108395324123\n",
            "Accuracy on training data is 0.8595568308624263\n",
            "Accuracy on testing data is 0.8578108395324123\n",
            "Accuracy on training data is 0.8595568308624263\n",
            "Accuracy on testing data is 0.8578108395324123\n",
            "Accuracy on training data is 0.8595568308624263\n",
            "Accuracy on testing data is 0.8578108395324123\n",
            "Accuracy on training data is 0.8595568308624263\n",
            "Accuracy on testing data is 0.8578108395324123\n",
            "Accuracy on training data is 0.8595568308624263\n"
          ],
          "name": "stdout"
        }
      ]
    },
    {
      "cell_type": "code",
      "metadata": {
        "id": "ar44-C8E2fGX",
        "colab": {
          "base_uri": "https://localhost:8080/"
        },
        "outputId": "7720bef1-4147-43d7-dc42-d68588b34081"
      },
      "source": [
        "#To chech which is best hyperparameter(with SVM)=>> use GradsearchCV\r\n",
        "from sklearn.model_selection import GridSearchCV\r\n",
        "parm_grid={'C':[0.1,1,100,1000],'kernel':['rbf','lin','poly'],'degree':[1,2,3,4,5,6]}\r\n",
        "grid=GridSearchCV(SVC(),parm_grid)\r\n",
        "grid.fit(X_train,y_train)\r\n"
      ],
      "execution_count": 45,
      "outputs": [
        {
          "output_type": "execute_result",
          "data": {
            "text/plain": [
              "GridSearchCV(cv=None, error_score=nan,\n",
              "             estimator=SVC(C=1.0, break_ties=False, cache_size=200,\n",
              "                           class_weight=None, coef0=0.0,\n",
              "                           decision_function_shape='ovr', degree=3,\n",
              "                           gamma='scale', kernel='rbf', max_iter=-1,\n",
              "                           probability=False, random_state=None, shrinking=True,\n",
              "                           tol=0.001, verbose=False),\n",
              "             iid='deprecated', n_jobs=None,\n",
              "             param_grid={'C': [0.1, 1, 100, 1000], 'degree': [1, 2, 3, 4, 5, 6],\n",
              "                         'kernel': ['rbf', 'lin', 'poly']},\n",
              "             pre_dispatch='2*n_jobs', refit=True, return_train_score=False,\n",
              "             scoring=None, verbose=0)"
            ]
          },
          "metadata": {
            "tags": []
          },
          "execution_count": 45
        }
      ]
    },
    {
      "cell_type": "code",
      "metadata": {
        "id": "mXLGErexx-06",
        "colab": {
          "base_uri": "https://localhost:8080/"
        },
        "outputId": "a70977ae-8656-4cc1-f327-1f1df44489c5"
      },
      "source": [
        "#print the best hyperparameter\r\n",
        "print(grid.best_params_)\r\n",
        "print(grid.score(X_test,y_test))"
      ],
      "execution_count": 46,
      "outputs": [
        {
          "output_type": "stream",
          "text": [
            "{'C': 0.1, 'degree': 1, 'kernel': 'rbf'}\n",
            "0.8578108395324123\n"
          ],
          "name": "stdout"
        }
      ]
    },
    {
      "cell_type": "markdown",
      "metadata": {
        "id": "MAoVwjZa3oFp"
      },
      "source": [
        "# **Naive Bayes Classification**"
      ]
    },
    {
      "cell_type": "code",
      "metadata": {
        "id": "xCrEmlRg01zD"
      },
      "source": [
        "#scaling using StandardScaler\r\n",
        "from sklearn.preprocessing import StandardScaler # import StandardScaler \r\n",
        "sc=StandardScaler() #define Standard Scaler\r\n",
        "X_train=sc.fit_transform(X_train)# transform train data\r\n",
        "X_test=sc.fit_transform(X_test) # transform test data"
      ],
      "execution_count": null,
      "outputs": []
    },
    {
      "cell_type": "code",
      "metadata": {
        "colab": {
          "base_uri": "https://localhost:8080/"
        },
        "id": "f9ekvKLW4dHF",
        "outputId": "2f334df9-de39-46a0-d0ed-ea9dcd9d7e2b"
      },
      "source": [
        "#import naive bayes (GaussianNB) and fitting data\r\n",
        "from sklearn.naive_bayes import GaussianNB #import GaussianNB naive bayes model\r\n",
        "classifier=GaussianNB() # create GaussianNB classifier\r\n",
        "classifier.fit(X_train,y_train) #train the model"
      ],
      "execution_count": null,
      "outputs": [
        {
          "output_type": "execute_result",
          "data": {
            "text/plain": [
              "GaussianNB(priors=None, var_smoothing=1e-09)"
            ]
          },
          "metadata": {
            "tags": []
          },
          "execution_count": 70
        }
      ]
    },
    {
      "cell_type": "code",
      "metadata": {
        "id": "16KxvJz14632"
      },
      "source": [
        "#predicte output \r\n",
        "y_pred=classifier.predict(X_test)\r\n",
        "from sklearn.metrics import confusion_matrix\r\n",
        "cm=confusion_matrix(y_test,y_pred)"
      ],
      "execution_count": null,
      "outputs": []
    },
    {
      "cell_type": "code",
      "metadata": {
        "colab": {
          "base_uri": "https://localhost:8080/"
        },
        "id": "GFLFW9J65fcv",
        "outputId": "61c918e6-7002-4319-9b29-1a731f8ccd40"
      },
      "source": [
        "#plotting heatmap of confusion_matrix\r\n",
        "sns.heatmap(cm,annot=True)\r\n"
      ],
      "execution_count": null,
      "outputs": [
        {
          "output_type": "execute_result",
          "data": {
            "text/plain": [
              "<matplotlib.axes._subplots.AxesSubplot at 0x7fb764a220f0>"
            ]
          },
          "metadata": {
            "tags": []
          },
          "execution_count": 72
        },
        {
          "output_type": "display_data",
          "data": {
            "image/png": "[encoded data removed]",
            "text/plain": [
              "<Figure size 432x288 with 2 Axes>"
            ]
          },
          "metadata": {
            "tags": [],
            "needs_background": "light"
          }
        }
      ]
    },
    {
      "cell_type": "code",
      "metadata": {
        "colab": {
          "base_uri": "https://localhost:8080/"
        },
        "id": "lVS06mPd5uJt",
        "outputId": "c63e0a53-b8cf-4750-b450-85c1365c076d"
      },
      "source": [
        "#compute accuracy\r\n",
        "from sklearn.metrics import accuracy_score # import accuracy_score\r\n",
        "accuracy_score(y_test,y_pred) #display accuracy"
      ],
      "execution_count": null,
      "outputs": [
        {
          "output_type": "execute_result",
          "data": {
            "text/plain": [
              "0.8641870350690755"
            ]
          },
          "metadata": {
            "tags": []
          },
          "execution_count": 73
        }
      ]
    },
    {
      "cell_type": "markdown",
      "metadata": {
        "id": "hTJjSP8McIv3"
      },
      "source": [
        "# **Logistic Regression**"
      ]
    },
    {
      "cell_type": "code",
      "metadata": {
        "colab": {
          "base_uri": "https://localhost:8080/"
        },
        "id": "VUarKYVA5QzB",
        "outputId": "8050f1ce-8441-4277-ed04-2b346dd96790"
      },
      "source": [
        "#importing LogisticRegression and scaling and predicting and compute accuracy\r\n",
        "from sklearn.linear_model import LogisticRegression\r\n",
        "logreg = LogisticRegression() # create LogisticRegression classifier\r\n",
        "scaler = StandardScaler() #define Standard Scaler\r\n",
        "X_train_scaled = scaler.fit_transform(X_train) #transform train data\r\n",
        "X_test_scaled = scaler.transform(X_test) #transform test data\r\n",
        "logreg.fit(X_train_scaled, y_train)\r\n",
        "y_pred = logreg.predict(X_test_scaled)\r\n",
        "from sklearn.metrics import classification_report\r\n",
        "print(classification_report(y_test, y_pred))\r\n",
        "print('Accuracy = {:.2f}'.format(logreg.score(X_test_scaled, y_test)))"
      ],
      "execution_count": null,
      "outputs": [
        {
          "output_type": "stream",
          "text": [
            "              precision    recall  f1-score   support\n",
            "\n",
            "           0       0.90      0.98      0.94      4036\n",
            "           1       0.72      0.35      0.47       669\n",
            "\n",
            "    accuracy                           0.89      4705\n",
            "   macro avg       0.81      0.66      0.70      4705\n",
            "weighted avg       0.87      0.89      0.87      4705\n",
            "\n",
            "Accuracy = 0.89\n"
          ],
          "name": "stdout"
        }
      ]
    },
    {
      "cell_type": "markdown",
      "metadata": {
        "id": "JPAm6iiYc99p"
      },
      "source": [
        "Evaluate a score by cross-validation\r\n",
        "\r\n"
      ]
    },
    {
      "cell_type": "code",
      "metadata": {
        "colab": {
          "base_uri": "https://localhost:8080/"
        },
        "id": "7oxQ__kPRZj7",
        "outputId": "ee7f2335-7208-4972-c145-336dba6750ac"
      },
      "source": [
        "#importing model_selection & cross_val_score\r\n",
        "from sklearn import model_selection\r\n",
        "from sklearn.model_selection import cross_val_score\r\n",
        "kfold = model_selection.KFold(n_splits=10, random_state=5)\r\n",
        "modelCV = LogisticRegression()\r\n",
        "scoring = 'accuracy'\r\n",
        "results = model_selection.cross_val_score(modelCV, X_train, y_train, cv=kfold, scoring=scoring)\r\n",
        "print(\"10-fold cross validation average accuracy: %.3f\" % (results.mean()))"
      ],
      "execution_count": null,
      "outputs": [
        {
          "output_type": "stream",
          "text": [
            "10-fold cross validation average accuracy: 0.884\n"
          ],
          "name": "stdout"
        }
      ]
    },
    {
      "cell_type": "markdown",
      "metadata": {
        "id": "VCtdHfdcee_b"
      },
      "source": [
        "# **KNeighborsClassifier**"
      ]
    },
    {
      "cell_type": "code",
      "metadata": {
        "colab": {
          "base_uri": "https://localhost:8080/"
        },
        "id": "WJ7IC7ZjRj0U",
        "outputId": "a7e03e01-7576-4b9f-8e48-3b6e031fad0d"
      },
      "source": [
        "from sklearn.neighbors import KNeighborsClassifier # import KNeighborsClassifier\r\n",
        "from sklearn.metrics import accuracy_score# import accuracy_score\r\n",
        "knn = KNeighborsClassifier(n_neighbors=17)\r\n",
        "knn.fit(X_train, y_train) # fitting training data in KNeighborsClassifier\r\n",
        "y_pred = knn.predict(X_test) #compute predicted value (y_pred)\r\n",
        "print(\"Accuracy = \",accuracy_score(y_pred,y_test)) #output the accuracy"
      ],
      "execution_count": null,
      "outputs": [
        {
          "output_type": "stream",
          "text": [
            "Accuracy =  0.8888416578108396\n"
          ],
          "name": "stdout"
        }
      ]
    },
    {
      "cell_type": "code",
      "metadata": {
        "colab": {
          "base_uri": "https://localhost:8080/"
        },
        "id": "h6E4V5ZfAq5q",
        "outputId": "dbf76a0f-1027-4f60-dc71-15ebbb118f4c"
      },
      "source": [
        "#import KNeighborsClassifier & accuracy_score \r\n",
        "from sklearn.neighbors import KNeighborsClassifier\r\n",
        "from sklearn.metrics import accuracy_score\r\n",
        "scores=[]\r\n",
        "k_range= range(1,30) #choose range from 1:30\r\n",
        "for i in k_range :\r\n",
        "    knn = KNeighborsClassifier(n_neighbors=i) #Build KNeighborsClassifier with n_neighbors=i\r\n",
        "    knn.fit(X_train, y_train) #fitting train data \r\n",
        "    y_pred = knn.predict(X_test) #compute predicted value \r\n",
        "    scores.append(accuracy_score(y_pred,y_test)) #compute score (accuracy_score)\r\n",
        "plt.plot(k_range,scores) # plotting k_range & scores"
      ],
      "execution_count": null,
      "outputs": [
        {
          "output_type": "execute_result",
          "data": {
            "text/plain": [
              "[<matplotlib.lines.Line2D at 0x7fb7648336d8>]"
            ]
          },
          "metadata": {
            "tags": []
          },
          "execution_count": 83
        },
        {
          "output_type": "display_data",
          "data": {
            "image/png": "[encoded data removed]",
            "text/plain": [
              "<Figure size 432x288 with 1 Axes>"
            ]
          },
          "metadata": {
            "tags": [],
            "needs_background": "light"
          }
        }
      ]
    },
    {
      "cell_type": "markdown",
      "metadata": {
        "id": "W9-VA1kXMdzH"
      },
      "source": [
        "# RandomForestClassifier"
      ]
    },
    {
      "cell_type": "code",
      "metadata": {
        "colab": {
          "base_uri": "https://localhost:8080/"
        },
        "id": "idv5t7PRSHRD",
        "outputId": "4a0de5d3-42d2-4ceb-8637-42afb8da35e1"
      },
      "source": [
        "#use RandomForestClassifier \r\n",
        "rfc = RandomForestClassifier(n_estimators=350) #Build RandomForestClassifier with n_estimators=30\r\n",
        "rfc = rfc.fit(X_train, y_train)#fitting train data \r\n",
        "rfc_pred = rfc.predict(X_test) #compute predict test with RandomForestClassifier\r\n",
        "from sklearn.metrics import accuracy_score #import accuracy_score from sklearn\r\n",
        "from sklearn.metrics import classification_report,confusion_matrix #classification_report,confusion_matrix\r\n",
        "print(classification_report(y_test,rfc_pred)) #print report of actual and testing result\r\n",
        "print(\"accuracy = \",accuracy_score(rfc_pred,y_test)) # print ACCURACY\r\n"
      ],
      "execution_count": null,
      "outputs": [
        {
          "output_type": "stream",
          "text": [
            "              precision    recall  f1-score   support\n",
            "\n",
            "           0       0.91      0.96      0.93      4036\n",
            "           1       0.59      0.40      0.48       669\n",
            "\n",
            "    accuracy                           0.88      4705\n",
            "   macro avg       0.75      0.68      0.70      4705\n",
            "weighted avg       0.86      0.88      0.86      4705\n",
            "\n",
            "accuracy =  0.8756641870350691\n"
          ],
          "name": "stdout"
        }
      ]
    },
    {
      "cell_type": "markdown",
      "metadata": {
        "id": "8Pgp_IvIcWsS"
      },
      "source": [
        "# Random Forest (use Grid search to find best parameters)"
      ]
    },
    {
      "cell_type": "code",
      "metadata": {
        "id": "tccv_WV7RoEz"
      },
      "source": [
        "from sklearn.model_selection import GridSearchCV\r\n"
      ],
      "execution_count": null,
      "outputs": []
    },
    {
      "cell_type": "code",
      "metadata": {
        "id": "vidMD4miR7NZ"
      },
      "source": [
        "#using max_depth,criterion will suffice for DT models, rest all will remain costant\r\n",
        "#given all paramters in Random forest\r\n",
        "parameters={'n_estimators':(10,30,50,70,90,100)\r\n",
        "            ,'criterion':('gini','entropy')\r\n",
        "            ,'max_depth':(3,5,7,9,10)\r\n",
        "            ,'max_features':('auto','sqrt')\r\n",
        "            ,'min_samples_split':(2,4,6)}"
      ],
      "execution_count": null,
      "outputs": []
    },
    {
      "cell_type": "code",
      "metadata": {
        "id": "KWbt0ydCTteD"
      },
      "source": [
        "RF_grid=GridSearchCV(RandomForestClassifier(n_jobs=-1,oob_score=False),param_grid=parameters,cv=3,verbose=True)"
      ],
      "execution_count": null,
      "outputs": []
    },
    {
      "cell_type": "code",
      "metadata": {
        "colab": {
          "base_uri": "https://localhost:8080/"
        },
        "id": "Gox93CKEURNB",
        "outputId": "9dca0b8e-4579-42a1-d05c-2a6f72203520"
      },
      "source": [
        "RF_grid_model=RF_grid.fit(x_train,y_train)"
      ],
      "execution_count": null,
      "outputs": [
        {
          "output_type": "stream",
          "text": [
            "Fitting 3 folds for each of 360 candidates, totalling 1080 fits\n"
          ],
          "name": "stdout"
        },
        {
          "output_type": "stream",
          "text": [
            "[Parallel(n_jobs=1)]: Using backend SequentialBackend with 1 concurrent workers.\n",
            "[Parallel(n_jobs=1)]: Done 1080 out of 1080 | elapsed: 11.8min finished\n"
          ],
          "name": "stderr"
        }
      ]
    },
    {
      "cell_type": "code",
      "metadata": {
        "colab": {
          "base_uri": "https://localhost:8080/"
        },
        "id": "hztili5RWae9",
        "outputId": "b9b63bff-c6cd-4363-d7be-ef96dc1a7b0f"
      },
      "source": [
        "RF_grid_model.best_estimator_"
      ],
      "execution_count": null,
      "outputs": [
        {
          "output_type": "execute_result",
          "data": {
            "text/plain": [
              "RandomForestClassifier(bootstrap=True, ccp_alpha=0.0, class_weight=None,\n",
              "                       criterion='entropy', max_depth=3, max_features='auto',\n",
              "                       max_leaf_nodes=None, max_samples=None,\n",
              "                       min_impurity_decrease=0.0, min_impurity_split=None,\n",
              "                       min_samples_leaf=1, min_samples_split=4,\n",
              "                       min_weight_fraction_leaf=0.0, n_estimators=70, n_jobs=-1,\n",
              "                       oob_score=False, random_state=None, verbose=0,\n",
              "                       warm_start=False)"
            ]
          },
          "metadata": {
            "tags": []
          },
          "execution_count": 137
        }
      ]
    },
    {
      "cell_type": "code",
      "metadata": {
        "colab": {
          "base_uri": "https://localhost:8080/"
        },
        "id": "ZKc4xp9PYH-W",
        "outputId": "e8d75642-a0d4-4fdb-bc75-4758526d78d0"
      },
      "source": [
        "RF_grid_model.best_score_"
      ],
      "execution_count": null,
      "outputs": [
        {
          "output_type": "execute_result",
          "data": {
            "text/plain": [
              "0.8691118894167978"
            ]
          },
          "metadata": {
            "tags": []
          },
          "execution_count": 141
        }
      ]
    },
    {
      "cell_type": "code",
      "metadata": {
        "id": "7xe0CwMBWuzV"
      },
      "source": [
        "#Build model with best estimator\r\n",
        "RF_Model=RandomForestClassifier(bootstrap=True, ccp_alpha=0.0, class_weight=None,\r\n",
        "                       criterion='entropy', max_depth=3, max_features='auto',\r\n",
        "                       max_leaf_nodes=None, max_samples=None,\r\n",
        "                       min_impurity_decrease=0.0, min_impurity_split=None,\r\n",
        "                       min_samples_leaf=1, min_samples_split=4,\r\n",
        "                       min_weight_fraction_leaf=0.0, n_estimators=70, n_jobs=-1,\r\n",
        "                       oob_score=False, random_state=None, verbose=0,\r\n",
        "                       warm_start=False)"
      ],
      "execution_count": null,
      "outputs": []
    },
    {
      "cell_type": "code",
      "metadata": {
        "colab": {
          "base_uri": "https://localhost:8080/"
        },
        "id": "59B8y1SoXxI9",
        "outputId": "1f4023e6-5bf5-442a-f121-00d323e96c80"
      },
      "source": [
        "RF_Model.fit(x_train,y_train)"
      ],
      "execution_count": null,
      "outputs": [
        {
          "output_type": "execute_result",
          "data": {
            "text/plain": [
              "RandomForestClassifier(bootstrap=True, ccp_alpha=0.0, class_weight=None,\n",
              "                       criterion='entropy', max_depth=3, max_features='auto',\n",
              "                       max_leaf_nodes=None, max_samples=None,\n",
              "                       min_impurity_decrease=0.0, min_impurity_split=None,\n",
              "                       min_samples_leaf=1, min_samples_split=4,\n",
              "                       min_weight_fraction_leaf=0.0, n_estimators=70, n_jobs=-1,\n",
              "                       oob_score=False, random_state=None, verbose=0,\n",
              "                       warm_start=False)"
            ]
          },
          "metadata": {
            "tags": []
          },
          "execution_count": 139
        }
      ]
    },
    {
      "cell_type": "code",
      "metadata": {
        "id": "Wm4iePmWZxJb"
      },
      "source": [
        "#Evalution of Test\r\n",
        "y_pred=RF_Model.predict(X_test)\r\n"
      ],
      "execution_count": null,
      "outputs": []
    },
    {
      "cell_type": "code",
      "metadata": {
        "colab": {
          "base_uri": "https://localhost:8080/"
        },
        "id": "yaTd3hyraGng",
        "outputId": "1218c631-b187-4b5f-ec42-3ddbff170bbb"
      },
      "source": [
        "print ('Test:',RF_Model.score(X_test,y_test))\r\n",
        "print ('Train:',RF_Model.score(x_train,y_train))"
      ],
      "execution_count": null,
      "outputs": [
        {
          "output_type": "stream",
          "text": [
            "Test: 0.8595111583421892\n",
            "Train: 0.8638411834721986\n"
          ],
          "name": "stdout"
        }
      ]
    },
    {
      "cell_type": "markdown",
      "metadata": {
        "id": "n_eO4o8Mqy_K"
      },
      "source": [
        "# **Build DecisionTreeClassifier**"
      ]
    },
    {
      "cell_type": "code",
      "metadata": {
        "id": "QfAkTX2N3CGG"
      },
      "source": [
        "#import tree and fitting DecisionTreeClassifier\r\n",
        "from sklearn import tree\r\n",
        "dtc = tree.DecisionTreeClassifier(max_depth=3) \r\n",
        "dtc = dtc.fit(X_train,y_train)"
      ],
      "execution_count": null,
      "outputs": []
    },
    {
      "cell_type": "code",
      "metadata": {
        "colab": {
          "base_uri": "https://localhost:8080/"
        },
        "id": "Xa0_6pe8TfLl",
        "outputId": "3fbf32c7-8e4c-4c0f-e27b-57fae8d011e9"
      },
      "source": [
        "#import accuracy_score \r\n",
        "from sklearn.metrics import accuracy_score\r\n",
        "dtc_pred = dtc.predict(X_test)\r\n",
        "from sklearn.metrics import classification_report,confusion_matrix\r\n",
        "print(classification_report(y_test,dtc_pred))\r\n",
        "print(\"Accuracy = \",accuracy_score(dtc_pred,y_test))"
      ],
      "execution_count": null,
      "outputs": [
        {
          "output_type": "stream",
          "text": [
            "              precision    recall  f1-score   support\n",
            "\n",
            "           0       0.88      0.99      0.93      4036\n",
            "           1       0.76      0.21      0.33       669\n",
            "\n",
            "    accuracy                           0.88      4705\n",
            "   macro avg       0.82      0.60      0.63      4705\n",
            "weighted avg       0.86      0.88      0.85      4705\n",
            "\n",
            "Accuracy =  0.8777895855472901\n"
          ],
          "name": "stdout"
        }
      ]
    },
    {
      "cell_type": "code",
      "metadata": {
        "id": "RdFFRSIqCcL-"
      },
      "source": [
        ""
      ],
      "execution_count": null,
      "outputs": []
    },
    {
      "cell_type": "markdown",
      "metadata": {
        "id": "j9oT3ojTT7jC"
      },
      "source": [
        "# **XGBOOST**"
      ]
    },
    {
      "cell_type": "code",
      "metadata": {
        "colab": {
          "base_uri": "https://localhost:8080/"
        },
        "id": "eJiSP9OmT2j0",
        "outputId": "507597a2-c5b6-4fac-c901-9d5a7aecb9cb"
      },
      "source": [
        "# import xgboost \r\n",
        "import xgboost as xgb \r\n",
        "XGB= xgb.XGBClassifier() #applay XGBClassifier\r\n",
        "XGB.fit(X_train,y_train)# fitting training dataset \r\n",
        "pred1=XGB.predict(X_test)# compute predicted value\r\n",
        "print ('Accuracy ={:.2f}'.format(XGB.score(X_test,y_test)))# output Accuracy of test data with xgboost"
      ],
      "execution_count": null,
      "outputs": [
        {
          "output_type": "stream",
          "text": [
            "Accuracy =0.89\n"
          ],
          "name": "stdout"
        }
      ]
    },
    {
      "cell_type": "markdown",
      "metadata": {
        "id": "ZoIW3NHEslry"
      },
      "source": [
        "# **GradientBoostingClassifier**"
      ]
    },
    {
      "cell_type": "code",
      "metadata": {
        "colab": {
          "base_uri": "https://localhost:8080/"
        },
        "id": "EIOfRjKzUK8V",
        "outputId": "7acfa697-f18b-47de-f9ec-ca510bbe0c63"
      },
      "source": [
        "#applay GradientBoostingClassifier\r\n",
        "from sklearn.ensemble import GradientBoostingClassifier #import GradientBoostingClassifier\r\n",
        "# give values to learning_rates \r\n",
        "learning_rates = [0.05, 0.1,0.15,0.2, 0.25,0.3,0.35,0.4,0.45, 0.5,0.55,0.6,0.65,0.7, 0.75,0.8,0.85,0.9,0.95, 1,1.05,1.1,1.15,1.2,1.25]\r\n",
        "#loop for learning_rates values\r\n",
        "for learning_rate in learning_rates:\r\n",
        "    #applay GradientBoostingClassifier with hyperparameters\r\n",
        "    gb = GradientBoostingClassifier(n_estimators=20, learning_rate = learning_rate, max_features=2, max_depth = 2, random_state = 0)\r\n",
        "    gb.fit(X_train, y_train) # fitting training data\r\n",
        "    print(\"Learning rate: \", learning_rate)# output of learning_rate\r\n",
        "    #output accuracy score :\r\n",
        "    print(\"Accuracy score (training): {0:.3f}\".format(gb.score(X_train, y_train)))\r\n",
        "    print(\"Accuracy score (validation): {0:.3f}\".format(gb.score(X_test, y_test)))\r\n",
        "    print()"
      ],
      "execution_count": null,
      "outputs": [
        {
          "output_type": "stream",
          "text": [
            "Learning rate:  0.05\n",
            "Accuracy score (training): 0.860\n",
            "Accuracy score (validation): 0.858\n",
            "\n",
            "Learning rate:  0.1\n",
            "Accuracy score (training): 0.860\n",
            "Accuracy score (validation): 0.858\n",
            "\n",
            "Learning rate:  0.15\n",
            "Accuracy score (training): 0.869\n",
            "Accuracy score (validation): 0.866\n",
            "\n",
            "Learning rate:  0.2\n",
            "Accuracy score (training): 0.873\n",
            "Accuracy score (validation): 0.872\n",
            "\n",
            "Learning rate:  0.25\n",
            "Accuracy score (training): 0.878\n",
            "Accuracy score (validation): 0.877\n",
            "\n",
            "Learning rate:  0.3\n",
            "Accuracy score (training): 0.880\n",
            "Accuracy score (validation): 0.881\n",
            "\n",
            "Learning rate:  0.35\n",
            "Accuracy score (training): 0.881\n",
            "Accuracy score (validation): 0.883\n",
            "\n",
            "Learning rate:  0.4\n",
            "Accuracy score (training): 0.881\n",
            "Accuracy score (validation): 0.884\n",
            "\n",
            "Learning rate:  0.45\n",
            "Accuracy score (training): 0.882\n",
            "Accuracy score (validation): 0.884\n",
            "\n",
            "Learning rate:  0.5\n",
            "Accuracy score (training): 0.882\n",
            "Accuracy score (validation): 0.883\n",
            "\n",
            "Learning rate:  0.55\n",
            "Accuracy score (training): 0.882\n",
            "Accuracy score (validation): 0.884\n",
            "\n",
            "Learning rate:  0.6\n",
            "Accuracy score (training): 0.883\n",
            "Accuracy score (validation): 0.885\n",
            "\n",
            "Learning rate:  0.65\n",
            "Accuracy score (training): 0.881\n",
            "Accuracy score (validation): 0.885\n",
            "\n",
            "Learning rate:  0.7\n",
            "Accuracy score (training): 0.881\n",
            "Accuracy score (validation): 0.886\n",
            "\n",
            "Learning rate:  0.75\n",
            "Accuracy score (training): 0.881\n",
            "Accuracy score (validation): 0.885\n",
            "\n",
            "Learning rate:  0.8\n",
            "Accuracy score (training): 0.880\n",
            "Accuracy score (validation): 0.885\n",
            "\n",
            "Learning rate:  0.85\n",
            "Accuracy score (training): 0.882\n",
            "Accuracy score (validation): 0.886\n",
            "\n",
            "Learning rate:  0.9\n",
            "Accuracy score (training): 0.881\n",
            "Accuracy score (validation): 0.884\n",
            "\n",
            "Learning rate:  0.95\n",
            "Accuracy score (training): 0.881\n",
            "Accuracy score (validation): 0.884\n",
            "\n",
            "Learning rate:  1\n",
            "Accuracy score (training): 0.881\n",
            "Accuracy score (validation): 0.885\n",
            "\n",
            "Learning rate:  1.05\n",
            "Accuracy score (training): 0.881\n",
            "Accuracy score (validation): 0.885\n",
            "\n",
            "Learning rate:  1.1\n",
            "Accuracy score (training): 0.882\n",
            "Accuracy score (validation): 0.886\n",
            "\n",
            "Learning rate:  1.15\n",
            "Accuracy score (training): 0.881\n",
            "Accuracy score (validation): 0.883\n",
            "\n",
            "Learning rate:  1.2\n",
            "Accuracy score (training): 0.881\n",
            "Accuracy score (validation): 0.884\n",
            "\n",
            "Learning rate:  1.25\n",
            "Accuracy score (training): 0.879\n",
            "Accuracy score (validation): 0.883\n",
            "\n"
          ],
          "name": "stdout"
        }
      ]
    },
    {
      "cell_type": "markdown",
      "metadata": {
        "id": "HwYTCzWYUetY"
      },
      "source": [
        "# EXTRA TREES CLASSIFIER"
      ]
    },
    {
      "cell_type": "code",
      "metadata": {
        "colab": {
          "base_uri": "https://localhost:8080/"
        },
        "id": "KUXo2VjLUWD7",
        "outputId": "20645f58-d9a9-4a28-ba08-f14391a76392"
      },
      "source": [
        "from sklearn.ensemble import ExtraTreesClassifier\r\n",
        "etc = ExtraTreesClassifier(n_estimators=200)\r\n",
        "etc = etc.fit(X_train,y_train)\r\n",
        "etc.score(X_test,y_test)"
      ],
      "execution_count": null,
      "outputs": [
        {
          "output_type": "execute_result",
          "data": {
            "text/plain": [
              "0.8688629117959618"
            ]
          },
          "metadata": {
            "tags": []
          },
          "execution_count": 138
        }
      ]
    },
    {
      "cell_type": "markdown",
      "metadata": {
        "id": "nnp3EIDPtA-8"
      },
      "source": [
        "# AdaBoostClassifier"
      ]
    },
    {
      "cell_type": "code",
      "metadata": {
        "colab": {
          "base_uri": "https://localhost:8080/"
        },
        "id": "oJ9G1yX1U2nH",
        "outputId": "a9773b2f-0812-408b-9cde-c6600b4431f2"
      },
      "source": [
        "from sklearn.ensemble import AdaBoostClassifier\r\n",
        "ada = AdaBoostClassifier(n_estimators=100)\r\n",
        "ada = ada.fit(X_train,y_train)\r\n",
        "ada_pred = ada.predict(X_test)  \r\n",
        "ada.score(X_test,y_test)"
      ],
      "execution_count": null,
      "outputs": [
        {
          "output_type": "execute_result",
          "data": {
            "text/plain": [
              "0.8869287991498406"
            ]
          },
          "metadata": {
            "tags": []
          },
          "execution_count": 139
        }
      ]
    },
    {
      "cell_type": "code",
      "metadata": {
        "colab": {
          "base_uri": "https://localhost:8080/"
        },
        "id": "_XTXgXueVLwI",
        "outputId": "81a1a562-4f1f-405e-b4d0-08f7835566e8"
      },
      "source": [
        "import numpy as np\r\n",
        "from sklearn.model_selection import GridSearchCV\r\n",
        "from sklearn.linear_model import LogisticRegression\r\n",
        "from sklearn.metrics import confusion_matrix, precision_recall_curve, auc, roc_auc_score, roc_curve, recall_score, classification_report\r\n",
        "\r\n",
        "parameters = {\r\n",
        "    'C': np.linspace(1, 10, 10)\r\n",
        "             }\r\n",
        "lr = LogisticRegression()\r\n",
        "clf = GridSearchCV(lr, parameters, cv=5, verbose=5, n_jobs=3)\r\n",
        "clf.fit(X_test, y_test.ravel())"
      ],
      "execution_count": null,
      "outputs": [
        {
          "output_type": "stream",
          "text": [
            "Fitting 5 folds for each of 10 candidates, totalling 50 fits\n"
          ],
          "name": "stdout"
        },
        {
          "output_type": "stream",
          "text": [
            "[Parallel(n_jobs=3)]: Using backend LokyBackend with 3 concurrent workers.\n",
            "[Parallel(n_jobs=3)]: Done  12 tasks      | elapsed:    1.8s\n",
            "[Parallel(n_jobs=3)]: Done  50 out of  50 | elapsed:    2.6s finished\n"
          ],
          "name": "stderr"
        },
        {
          "output_type": "execute_result",
          "data": {
            "text/plain": [
              "GridSearchCV(cv=5, error_score=nan,\n",
              "             estimator=LogisticRegression(C=1.0, class_weight=None, dual=False,\n",
              "                                          fit_intercept=True,\n",
              "                                          intercept_scaling=1, l1_ratio=None,\n",
              "                                          max_iter=100, multi_class='auto',\n",
              "                                          n_jobs=None, penalty='l2',\n",
              "                                          random_state=None, solver='lbfgs',\n",
              "                                          tol=0.0001, verbose=0,\n",
              "                                          warm_start=False),\n",
              "             iid='deprecated', n_jobs=3,\n",
              "             param_grid={'C': array([ 1.,  2.,  3.,  4.,  5.,  6.,  7.,  8.,  9., 10.])},\n",
              "             pre_dispatch='2*n_jobs', refit=True, return_train_score=False,\n",
              "             scoring=None, verbose=5)"
            ]
          },
          "metadata": {
            "tags": []
          },
          "execution_count": 131
        }
      ]
    },
    {
      "cell_type": "code",
      "metadata": {
        "colab": {
          "base_uri": "https://localhost:8080/"
        },
        "id": "Sh7G0r_iVr23",
        "outputId": "c671770f-1e21-4c67-bdb2-434d4c248e2f"
      },
      "source": [
        "clf.score(X_test,y_test)"
      ],
      "execution_count": null,
      "outputs": [
        {
          "output_type": "execute_result",
          "data": {
            "text/plain": [
              "0.8882040382571732"
            ]
          },
          "metadata": {
            "tags": []
          },
          "execution_count": 132
        }
      ]
    },
    {
      "cell_type": "markdown",
      "metadata": {
        "id": "rrwZzNsYKGRo"
      },
      "source": [
        "# **Bagging**"
      ]
    },
    {
      "cell_type": "code",
      "metadata": {
        "id": "nrVzpmw1Vykm"
      },
      "source": [
        "#import needed libraries \r\n",
        "from sklearn.ensemble import BaggingClassifier\r\n",
        "from sklearn.tree import  DecisionTreeClassifier\r\n",
        "from sklearn.ensemble import RandomForestClassifier\r\n",
        "from sklearn.naive_bayes import GaussianNB\r\n",
        "\r\n"
      ],
      "execution_count": 65,
      "outputs": []
    },
    {
      "cell_type": "code",
      "metadata": {
        "colab": {
          "base_uri": "https://localhost:8080/"
        },
        "id": "bLeMeiemx6tN",
        "outputId": "5305e37c-3397-4bb2-95fb-eb6e202fc2f4"
      },
      "source": [
        "#Decision Tree Classifier & fitting in training dataset\r\n",
        "dt=DecisionTreeClassifier()\r\n",
        "dt.fit(X_train,y_train)"
      ],
      "execution_count": 66,
      "outputs": [
        {
          "output_type": "execute_result",
          "data": {
            "text/plain": [
              "DecisionTreeClassifier(ccp_alpha=0.0, class_weight=None, criterion='gini',\n",
              "                       max_depth=None, max_features=None, max_leaf_nodes=None,\n",
              "                       min_impurity_decrease=0.0, min_impurity_split=None,\n",
              "                       min_samples_leaf=1, min_samples_split=2,\n",
              "                       min_weight_fraction_leaf=0.0, presort='deprecated',\n",
              "                       random_state=None, splitter='best')"
            ]
          },
          "metadata": {
            "tags": []
          },
          "execution_count": 66
        }
      ]
    },
    {
      "cell_type": "code",
      "metadata": {
        "colab": {
          "base_uri": "https://localhost:8080/"
        },
        "id": "Zhbb6bRZ1Wzz",
        "outputId": "e0efd2e9-dfe6-476e-d95b-49b9c173bdb0"
      },
      "source": [
        "#accuracy with test data set\r\n",
        "dt.score(X_test,y_test)"
      ],
      "execution_count": 67,
      "outputs": [
        {
          "output_type": "execute_result",
          "data": {
            "text/plain": [
              "0.859086078639745"
            ]
          },
          "metadata": {
            "tags": []
          },
          "execution_count": 67
        }
      ]
    },
    {
      "cell_type": "code",
      "metadata": {
        "colab": {
          "base_uri": "https://localhost:8080/"
        },
        "id": "aj3lnEUX1xun",
        "outputId": "c8f2e38a-8d9a-40bc-8521-c593da2de0d1"
      },
      "source": [
        "#accuracy with train data set\r\n",
        "dt.score(X_train,y_train)"
      ],
      "execution_count": 68,
      "outputs": [
        {
          "output_type": "execute_result",
          "data": {
            "text/plain": [
              "0.9435145331845475"
            ]
          },
          "metadata": {
            "tags": []
          },
          "execution_count": 68
        }
      ]
    },
    {
      "cell_type": "code",
      "metadata": {
        "colab": {
          "base_uri": "https://localhost:8080/"
        },
        "id": "A5lyjvpQ2QKG",
        "outputId": "e7f1de48-b0d9-4dbc-cf5e-5a815a11c38d"
      },
      "source": [
        "#Random forest Ensembel of Decision Trees\r\n",
        "rf=RandomForestClassifier(n_estimators=20)\r\n",
        "rf.fit(X_train,y_train)"
      ],
      "execution_count": 72,
      "outputs": [
        {
          "output_type": "execute_result",
          "data": {
            "text/plain": [
              "RandomForestClassifier(bootstrap=True, ccp_alpha=0.0, class_weight=None,\n",
              "                       criterion='gini', max_depth=None, max_features='auto',\n",
              "                       max_leaf_nodes=None, max_samples=None,\n",
              "                       min_impurity_decrease=0.0, min_impurity_split=None,\n",
              "                       min_samples_leaf=1, min_samples_split=2,\n",
              "                       min_weight_fraction_leaf=0.0, n_estimators=20,\n",
              "                       n_jobs=None, oob_score=False, random_state=None,\n",
              "                       verbose=0, warm_start=False)"
            ]
          },
          "metadata": {
            "tags": []
          },
          "execution_count": 72
        }
      ]
    },
    {
      "cell_type": "code",
      "metadata": {
        "colab": {
          "base_uri": "https://localhost:8080/"
        },
        "id": "J6VWnqN93ybw",
        "outputId": "987306bd-e669-48f4-c4b3-a43cd9b8033f"
      },
      "source": [
        "rf.score(X_test,y_test)"
      ],
      "execution_count": 73,
      "outputs": [
        {
          "output_type": "execute_result",
          "data": {
            "text/plain": [
              "0.8739638682252923"
            ]
          },
          "metadata": {
            "tags": []
          },
          "execution_count": 73
        }
      ]
    },
    {
      "cell_type": "code",
      "metadata": {
        "colab": {
          "base_uri": "https://localhost:8080/"
        },
        "id": "vh73E5784kuB",
        "outputId": "8e755cc5-ae3f-4985-e493-3788e573ddcf"
      },
      "source": [
        "#Bagging with DecisionTreeClassifier\r\n",
        "bg=BaggingClassifier(DecisionTreeClassifier(),max_samples=0.5,max_features=1.0,n_estimators=20)\r\n",
        "bg.fit(X_train,y_train)"
      ],
      "execution_count": 76,
      "outputs": [
        {
          "output_type": "execute_result",
          "data": {
            "text/plain": [
              "BaggingClassifier(base_estimator=DecisionTreeClassifier(ccp_alpha=0.0,\n",
              "                                                        class_weight=None,\n",
              "                                                        criterion='gini',\n",
              "                                                        max_depth=None,\n",
              "                                                        max_features=None,\n",
              "                                                        max_leaf_nodes=None,\n",
              "                                                        min_impurity_decrease=0.0,\n",
              "                                                        min_impurity_split=None,\n",
              "                                                        min_samples_leaf=1,\n",
              "                                                        min_samples_split=2,\n",
              "                                                        min_weight_fraction_leaf=0.0,\n",
              "                                                        presort='deprecated',\n",
              "                                                        random_state=None,\n",
              "                                                        splitter='best'),\n",
              "                  bootstrap=True, bootstrap_features=False, max_features=1.0,\n",
              "                  max_samples=0.5, n_estimators=20, n_jobs=None,\n",
              "                  oob_score=False, random_state=None, verbose=0,\n",
              "                  warm_start=False)"
            ]
          },
          "metadata": {
            "tags": []
          },
          "execution_count": 76
        }
      ]
    },
    {
      "cell_type": "code",
      "metadata": {
        "colab": {
          "base_uri": "https://localhost:8080/"
        },
        "id": "pMOdhdky5hpx",
        "outputId": "6d9f26dc-1074-479b-d802-4404f9d39ca2"
      },
      "source": [
        "#score of Bagging with Decision Trees\r\n",
        "bg.score(X_test,y_test)"
      ],
      "execution_count": 77,
      "outputs": [
        {
          "output_type": "execute_result",
          "data": {
            "text/plain": [
              "0.879702444208289"
            ]
          },
          "metadata": {
            "tags": []
          },
          "execution_count": 77
        }
      ]
    },
    {
      "cell_type": "code",
      "metadata": {
        "id": "-8T03UQQ9SgJ"
      },
      "source": [
        "#Naïve bayes Classifier & fitting in training dataset\r\n",
        "nb=GaussianNB()\r\n",
        "nb.fit(X_train,y_train)"
      ],
      "execution_count": null,
      "outputs": []
    },
    {
      "cell_type": "code",
      "metadata": {
        "colab": {
          "base_uri": "https://localhost:8080/"
        },
        "id": "-EpcJ78e-A06",
        "outputId": "07bf6e8f-ff32-49c6-9f74-ab75ebbc3424"
      },
      "source": [
        "#score of Naïve bayes \r\n",
        "nb.score(X_test,y_test)"
      ],
      "execution_count": 83,
      "outputs": [
        {
          "output_type": "execute_result",
          "data": {
            "text/plain": [
              "0.8626992561105207"
            ]
          },
          "metadata": {
            "tags": []
          },
          "execution_count": 83
        }
      ]
    },
    {
      "cell_type": "code",
      "metadata": {
        "colab": {
          "base_uri": "https://localhost:8080/"
        },
        "id": "fNyUWH0dFpuN",
        "outputId": "00dbbc39-b3cb-4caf-e83c-21326ca19679"
      },
      "source": [
        "#Bagging\r\n",
        "bg=BaggingClassifier(GaussianNB(),max_samples=0.5,max_features=1.0,n_estimators=20)\r\n",
        "bg.fit(X_train,y_train)"
      ],
      "execution_count": 85,
      "outputs": [
        {
          "output_type": "execute_result",
          "data": {
            "text/plain": [
              "BaggingClassifier(base_estimator=GaussianNB(priors=None, var_smoothing=1e-09),\n",
              "                  bootstrap=True, bootstrap_features=False, max_features=1.0,\n",
              "                  max_samples=0.5, n_estimators=20, n_jobs=None,\n",
              "                  oob_score=False, random_state=None, verbose=0,\n",
              "                  warm_start=False)"
            ]
          },
          "metadata": {
            "tags": []
          },
          "execution_count": 85
        }
      ]
    },
    {
      "cell_type": "code",
      "metadata": {
        "colab": {
          "base_uri": "https://localhost:8080/"
        },
        "id": "mYp2juhWF06O",
        "outputId": "88f76f72-73d7-4ea1-e6aa-04e63654d792"
      },
      "source": [
        "#score Bagging with Naive Bayes\r\n",
        "bg.score(X_test,y_test)"
      ],
      "execution_count": 86,
      "outputs": [
        {
          "output_type": "execute_result",
          "data": {
            "text/plain": [
              "0.8471838469713071"
            ]
          },
          "metadata": {
            "tags": []
          },
          "execution_count": 86
        }
      ]
    },
    {
      "cell_type": "markdown",
      "metadata": {
        "id": "1e8b2UiuuJRX"
      },
      "source": [
        "# Voting-Ensembling (use hard voting for 5-methods)"
      ]
    },
    {
      "cell_type": "code",
      "metadata": {
        "id": "pGfWTOL4iP5T"
      },
      "source": [
        "#import needed libraries\r\n",
        "from sklearn.ensemble import RandomForestClassifier\r\n",
        "from sklearn.ensemble import VotingClassifier\r\n",
        "from sklearn.naive_bayes import GaussianNB\r\n",
        "from xgboost import XGBClassifier\r\n",
        "from sklearn.linear_model import LogisticRegression\r\n",
        "from sklearn.svm import SVC\r\n",
        "\r\n",
        "\r\n",
        "#voting classifier - multiple modele ensembel with hard votting\r\n",
        "voting_clf=VotingClassifier(\r\n",
        "    estimators=[('lr',LogisticRegression()),\r\n",
        "                ('rf',RandomForestClassifier()),\r\n",
        "                ('svc',SVC()),\r\n",
        "                ('nb',GaussianNB()),\r\n",
        "                ('xg',XGBClassifier())],\r\n",
        "                voting='hard')\r\n",
        "\r\n",
        "\r\n"
      ],
      "execution_count": 80,
      "outputs": []
    },
    {
      "cell_type": "code",
      "metadata": {
        "colab": {
          "base_uri": "https://localhost:8080/"
        },
        "id": "jeXOPGQHr1-J",
        "outputId": "9e09d821-2a5b-4215-8717-fa8c918566b3"
      },
      "source": [
        "#fitting training dataset with votting classifier\r\n",
        "voting_clf.fit(X_train,y_train)\r\n"
      ],
      "execution_count": 78,
      "outputs": [
        {
          "output_type": "execute_result",
          "data": {
            "text/plain": [
              "VotingClassifier(estimators=[('lr',\n",
              "                              LogisticRegression(C=1.0, class_weight=None,\n",
              "                                                 dual=False, fit_intercept=True,\n",
              "                                                 intercept_scaling=1,\n",
              "                                                 l1_ratio=None, max_iter=100,\n",
              "                                                 multi_class='auto',\n",
              "                                                 n_jobs=None, penalty='l2',\n",
              "                                                 random_state=None,\n",
              "                                                 solver='lbfgs', tol=0.0001,\n",
              "                                                 verbose=0, warm_start=False)),\n",
              "                             ('rf',\n",
              "                              RandomForestClassifier(bootstrap=True,\n",
              "                                                     ccp_alpha=0.0,\n",
              "                                                     class_weight=None,\n",
              "                                                     cr...\n",
              "                                            colsample_bynode=1,\n",
              "                                            colsample_bytree=1, gamma=0,\n",
              "                                            learning_rate=0.1, max_delta_step=0,\n",
              "                                            max_depth=3, min_child_weight=1,\n",
              "                                            missing=None, n_estimators=100,\n",
              "                                            n_jobs=1, nthread=None,\n",
              "                                            objective='binary:logistic',\n",
              "                                            random_state=0, reg_alpha=0,\n",
              "                                            reg_lambda=1, scale_pos_weight=1,\n",
              "                                            seed=None, silent=None, subsample=1,\n",
              "                                            verbosity=1))],\n",
              "                 flatten_transform=True, n_jobs=None, voting='hard',\n",
              "                 weights=None)"
            ]
          },
          "metadata": {
            "tags": []
          },
          "execution_count": 78
        }
      ]
    },
    {
      "cell_type": "code",
      "metadata": {
        "colab": {
          "base_uri": "https://localhost:8080/"
        },
        "id": "NHtze7rat2kl",
        "outputId": "01695d6d-0c1c-414c-85ed-9f7f5f814b7f"
      },
      "source": [
        "#score of votting classifier\r\n",
        "voting_clf.score(X_test,y_test)"
      ],
      "execution_count": 79,
      "outputs": [
        {
          "output_type": "execute_result",
          "data": {
            "text/plain": [
              "0.8905419766206164"
            ]
          },
          "metadata": {
            "tags": []
          },
          "execution_count": 79
        }
      ]
    },
    {
      "cell_type": "markdown",
      "metadata": {
        "id": "mCqvsH5au1GA"
      },
      "source": [
        "# **modeles Evaluation comparison**"
      ]
    },
    {
      "cell_type": "code",
      "metadata": {
        "colab": {
          "base_uri": "https://localhost:8080/"
        },
        "id": "tamLbRkB3E7E",
        "outputId": "0a38726e-bb7f-4fbe-b24a-e8e6bb65cfd9"
      },
      "source": [
        "# import needed libraries\r\n",
        "from sklearn import model_selection\r\n",
        "from sklearn import tree\r\n",
        "import xgboost as xgb \r\n",
        "from sklearn.linear_model import LogisticRegression\r\n",
        "from sklearn.neighbors import KNeighborsClassifier\r\n",
        "from sklearn.naive_bayes import GaussianNB \r\n",
        "from sklearn.ensemble import RandomForestClassifier\r\n",
        "from mlxtend.classifier import StackingClassifier\r\n",
        "from sklearn.ensemble import AdaBoostClassifier\r\n",
        "from sklearn.svm import SVC\r\n",
        "import numpy as np\r\n",
        "import warnings\r\n",
        "from sklearn.ensemble import GradientBoostingClassifier #import GradientBoostingClassifier\r\n",
        "\r\n",
        "\r\n",
        "warnings.simplefilter('ignore')\r\n",
        "svm1=SVC(kernel='linear')\r\n",
        "xgbc= xgb.XGBClassifier()\r\n",
        "gbc = GradientBoostingClassifier(n_estimators=20, max_features=2, max_depth = 2, random_state = 0)\r\n",
        "ada = AdaBoostClassifier(n_estimators=100)\r\n",
        "nb=GaussianNB()\r\n",
        "dtc = tree.DecisionTreeClassifier(max_depth=3) \r\n",
        "rfc = RandomForestClassifier(n_estimators=350)\r\n",
        "from sklearn.ensemble import ExtraTreesClassifier\r\n",
        "etc = ExtraTreesClassifier(n_estimators=100)\r\n",
        "lr = LogisticRegression()\r\n",
        "sclf = StackingClassifier(classifiers=[dtc, lr,etc,svm1,nb,rfc,xgbc,gbc,ada,sclf], \r\n",
        "                          meta_classifier=lr)\r\n",
        "\r\n",
        "print('3-fold cross validation:\\n')\r\n",
        "\r\n",
        "for clf, label in zip([dtc, lr,etc,svm1,nb,rfc,xgbc,gbc,ada,sclf], \r\n",
        "                      ['dtc', \r\n",
        "                       'lr','etc','SVM','nb',\r\n",
        "                       'rfc','xgbc','gbc','ada',\r\n",
        "                       'StackingClassifier']):\r\n",
        "\r\n",
        "    scores = model_selection.cross_val_score(clf, X, y, \r\n",
        "                                              cv=3, scoring='accuracy')\r\n",
        "    print(\"Accuracy: %0.2f (+/- %0.2f) [%s]\" \r\n",
        "          % (scores.mean(), scores.std(), label))"
      ],
      "execution_count": 98,
      "outputs": [
        {
          "output_type": "stream",
          "text": [
            "3-fold cross validation:\n",
            "\n",
            "Accuracy: 0.72 (+/- 0.21) [dtc]\n",
            "Accuracy: 0.86 (+/- 0.01) [lr]\n",
            "Accuracy: 0.71 (+/- 0.22) [etc]\n",
            "Accuracy: 0.72 (+/- 0.21) [SVM]\n",
            "Accuracy: 0.68 (+/- 0.20) [nb]\n",
            "Accuracy: 0.72 (+/- 0.22) [rfc]\n",
            "Accuracy: 0.72 (+/- 0.22) [xgbc]\n",
            "Accuracy: 0.80 (+/- 0.10) [gbc]\n",
            "Accuracy: 0.72 (+/- 0.22) [ada]\n",
            "Accuracy: 0.71 (+/- 0.22) [StackingClassifier]\n"
          ],
          "name": "stdout"
        }
      ]
    },
    {
      "cell_type": "markdown",
      "metadata": {
        "id": "zVJoEiHgl3SP"
      },
      "source": [
        "# Comparing Classifiers for Building Classification Models\r\n"
      ]
    },
    {
      "cell_type": "code",
      "metadata": {
        "id": "hAlxYEsGgB-C"
      },
      "source": [
        "#import library make_classification\r\n",
        "from sklearn.datasets import make_classification"
      ],
      "execution_count": 155,
      "outputs": []
    },
    {
      "cell_type": "markdown",
      "metadata": {
        "id": "89Atm_-rn7JL"
      },
      "source": [
        "Generate the dataset"
      ]
    },
    {
      "cell_type": "code",
      "metadata": {
        "id": "q-WviNVPl1MU"
      },
      "source": [
        "x,y = make_classification(n_samples=1000, n_classes=2, n_features=13, n_redundant=0, random_state=1)\r\n"
      ],
      "execution_count": 156,
      "outputs": []
    },
    {
      "cell_type": "markdown",
      "metadata": {
        "id": "B28xgn9KoDQe"
      },
      "source": [
        "Examine the data dimionsion"
      ]
    },
    {
      "cell_type": "code",
      "metadata": {
        "colab": {
          "base_uri": "https://localhost:8080/"
        },
        "id": "C6perE7ine-j",
        "outputId": "0f7c064f-56c2-40c3-8902-676c5b32dada"
      },
      "source": [
        "x.shape"
      ],
      "execution_count": 157,
      "outputs": [
        {
          "output_type": "execute_result",
          "data": {
            "text/plain": [
              "(1000, 13)"
            ]
          },
          "metadata": {
            "tags": []
          },
          "execution_count": 157
        }
      ]
    },
    {
      "cell_type": "code",
      "metadata": {
        "colab": {
          "base_uri": "https://localhost:8080/"
        },
        "id": "mtIvw19xnxMS",
        "outputId": "444e300f-e24c-404f-9ee6-861c26981432"
      },
      "source": [
        "#just one column\r\n",
        "y.shape"
      ],
      "execution_count": 158,
      "outputs": [
        {
          "output_type": "execute_result",
          "data": {
            "text/plain": [
              "(1000,)"
            ]
          },
          "metadata": {
            "tags": []
          },
          "execution_count": 158
        }
      ]
    },
    {
      "cell_type": "markdown",
      "metadata": {
        "id": "u9t17tsLotl8"
      },
      "source": [
        "split the data"
      ]
    },
    {
      "cell_type": "code",
      "metadata": {
        "id": "uKgbU62qosIR"
      },
      "source": [
        "from sklearn.model_selection import train_test_split\r\n"
      ],
      "execution_count": 159,
      "outputs": []
    },
    {
      "cell_type": "code",
      "metadata": {
        "id": "c9WHqEcGoK3o"
      },
      "source": [
        "#Data split (80/20 ratio)\r\n",
        "X_train, X_test, Y_train, Y_test = train_test_split(X, Y, test_size=0.2)\r\n"
      ],
      "execution_count": 160,
      "outputs": []
    },
    {
      "cell_type": "markdown",
      "metadata": {
        "id": "Ma6XhIlypbLy"
      },
      "source": [
        "Let's examine the data dimension\r\n"
      ]
    },
    {
      "cell_type": "code",
      "metadata": {
        "colab": {
          "base_uri": "https://localhost:8080/"
        },
        "id": "ih6LodrSpMyw",
        "outputId": "ec26e240-cd89-49b0-d180-7c53b214748f"
      },
      "source": [
        "X_train.shape, Y_train.shape\r\n"
      ],
      "execution_count": 161,
      "outputs": [
        {
          "output_type": "execute_result",
          "data": {
            "text/plain": [
              "((800, 13), (800,))"
            ]
          },
          "metadata": {
            "tags": []
          },
          "execution_count": 161
        }
      ]
    },
    {
      "cell_type": "code",
      "metadata": {
        "colab": {
          "base_uri": "https://localhost:8080/"
        },
        "id": "GScRHKMupnZB",
        "outputId": "1d903411-59c3-4025-8ec1-fea1d39ec8d9"
      },
      "source": [
        "X_test.shape, Y_test.shape\r\n"
      ],
      "execution_count": 162,
      "outputs": [
        {
          "output_type": "execute_result",
          "data": {
            "text/plain": [
              "((200, 13), (200,))"
            ]
          },
          "metadata": {
            "tags": []
          },
          "execution_count": 162
        }
      ]
    },
    {
      "cell_type": "markdown",
      "metadata": {
        "id": "OICk2-J6p1Wo"
      },
      "source": [
        "Build Classification Models"
      ]
    },
    {
      "cell_type": "code",
      "metadata": {
        "id": "BdXtiqmFpvm8"
      },
      "source": [
        "#import libraries\r\n",
        "\r\n",
        "import pandas as pd\r\n",
        "\r\n",
        "from sklearn.neural_network import MLPClassifier\r\n",
        "from sklearn.neighbors import KNeighborsClassifier\r\n",
        "from sklearn.svm import SVC\r\n",
        "from sklearn.gaussian_process import GaussianProcessClassifier\r\n",
        "from sklearn.ensemble import GradientBoostingClassifier\r\n",
        "from sklearn.gaussian_process.kernels import RBF\r\n",
        "from sklearn.tree import DecisionTreeClassifier\r\n",
        "from sklearn.ensemble import ExtraTreesClassifier\r\n",
        "from sklearn.ensemble import RandomForestClassifier, AdaBoostClassifier\r\n",
        "from sklearn.naive_bayes import GaussianNB\r\n",
        "from sklearn.discriminant_analysis import QuadraticDiscriminantAnalysis\r\n",
        "from sklearn.linear_model import SGDClassifier\r\n",
        "import xgboost as xgb \r\n"
      ],
      "execution_count": 163,
      "outputs": []
    },
    {
      "cell_type": "markdown",
      "metadata": {
        "id": "DCPTDAozqNMx"
      },
      "source": [
        " Defining learning classifiers"
      ]
    },
    {
      "cell_type": "code",
      "metadata": {
        "id": "ocRXuVFyqHW-"
      },
      "source": [
        "names = [\"Nearest_Neighbors\", \"Linear_SVM\", \"Polynomial_SVM\", \"RBF_SVM\", \"Gaussian_Process\",\r\n",
        "         \"Gradient_Boosting\", \"Decision_Tree\", \"Extra_Trees\", \"Random_Forest\", \"AdaBoost\",\r\n",
        "         \"Naive_Bayes\",\"XGBOOST\"]"
      ],
      "execution_count": 164,
      "outputs": []
    },
    {
      "cell_type": "code",
      "metadata": {
        "id": "5DU-ZnAXqvas"
      },
      "source": [
        "classifiers = [\r\n",
        "    KNeighborsClassifier(3),\r\n",
        "    SVC(kernel=\"linear\", C=0.025),\r\n",
        "    SVC(kernel=\"poly\", degree=3, C=0.025),\r\n",
        "    SVC(kernel=\"rbf\", C=1, gamma=2),\r\n",
        "    GaussianProcessClassifier(1.0 * RBF(1.0)),\r\n",
        "    GradientBoostingClassifier(n_estimators=100, learning_rate=1.0),\r\n",
        "    DecisionTreeClassifier(max_depth=5),\r\n",
        "    ExtraTreesClassifier(n_estimators=10, min_samples_split=2),\r\n",
        "    RandomForestClassifier(max_depth=5, n_estimators=100),\r\n",
        "    AdaBoostClassifier(n_estimators=100),\r\n",
        "    GaussianNB(),\r\n",
        "    XGBClassifier()\r\n",
        "  ]"
      ],
      "execution_count": 165,
      "outputs": []
    },
    {
      "cell_type": "markdown",
      "metadata": {
        "id": "2efb2me0rudP"
      },
      "source": [
        " Build Model, Apply Model on Test Data & Record Accuracy Scores\r\n"
      ]
    },
    {
      "cell_type": "code",
      "metadata": {
        "id": "6MjUJOhorxk4"
      },
      "source": [
        "scores = []\r\n",
        "for name, clf in zip(names, classifiers):\r\n",
        "    clf.fit(X_train, Y_train)\r\n",
        "    score = clf.score(X_test, Y_test)\r\n",
        "    scores.append(score)"
      ],
      "execution_count": 166,
      "outputs": []
    },
    {
      "cell_type": "code",
      "metadata": {
        "colab": {
          "base_uri": "https://localhost:8080/"
        },
        "id": "pXQFoCh-rtv9",
        "outputId": "65b11ee6-f72e-4747-cbbe-fbe0efaa99c4"
      },
      "source": [
        "scores"
      ],
      "execution_count": 167,
      "outputs": [
        {
          "output_type": "execute_result",
          "data": {
            "text/plain": [
              "[0.83, 0.885, 0.7, 0.445, 0.885, 0.84, 0.89, 0.79, 0.88, 0.86, 0.895, 0.905]"
            ]
          },
          "metadata": {
            "tags": []
          },
          "execution_count": 167
        }
      ]
    },
    {
      "cell_type": "markdown",
      "metadata": {
        "id": "abiE1qUisigF"
      },
      "source": [
        "Analysis of Model Performance\r\n"
      ]
    },
    {
      "cell_type": "code",
      "metadata": {
        "id": "tRdmdDXEsmAp"
      },
      "source": [
        "#import librares\r\n",
        "import pandas as pd\r\n",
        "import seaborn as sns"
      ],
      "execution_count": 168,
      "outputs": []
    },
    {
      "cell_type": "markdown",
      "metadata": {
        "id": "o2J_7jrrs23_"
      },
      "source": [
        "Create data frame of model performance"
      ]
    },
    {
      "cell_type": "code",
      "metadata": {
        "colab": {
          "base_uri": "https://localhost:8080/",
          "height": 407
        },
        "id": "qm8xTmcys1m-",
        "outputId": "89f04b2f-c134-4b41-c153-438519653e26"
      },
      "source": [
        "df = pd.DataFrame()\r\n",
        "df['name'] = names\r\n",
        "df['score'] = scores\r\n",
        "df"
      ],
      "execution_count": 169,
      "outputs": [
        {
          "output_type": "execute_result",
          "data": {
            "text/html": [
              "<div>\n",
              "<style scoped>\n",
              "    .dataframe tbody tr th:only-of-type {\n",
              "        vertical-align: middle;\n",
              "    }\n",
              "\n",
              "    .dataframe tbody tr th {\n",
              "        vertical-align: top;\n",
              "    }\n",
              "\n",
              "    .dataframe thead th {\n",
              "        text-align: right;\n",
              "    }\n",
              "</style>\n",
              "<table border=\"1\" class=\"dataframe\">\n",
              "  <thead>\n",
              "    <tr style=\"text-align: right;\">\n",
              "      <th></th>\n",
              "      <th>name</th>\n",
              "      <th>score</th>\n",
              "    </tr>\n",
              "  </thead>\n",
              "  <tbody>\n",
              "    <tr>\n",
              "      <th>0</th>\n",
              "      <td>Nearest_Neighbors</td>\n",
              "      <td>0.830</td>\n",
              "    </tr>\n",
              "    <tr>\n",
              "      <th>1</th>\n",
              "      <td>Linear_SVM</td>\n",
              "      <td>0.885</td>\n",
              "    </tr>\n",
              "    <tr>\n",
              "      <th>2</th>\n",
              "      <td>Polynomial_SVM</td>\n",
              "      <td>0.700</td>\n",
              "    </tr>\n",
              "    <tr>\n",
              "      <th>3</th>\n",
              "      <td>RBF_SVM</td>\n",
              "      <td>0.445</td>\n",
              "    </tr>\n",
              "    <tr>\n",
              "      <th>4</th>\n",
              "      <td>Gaussian_Process</td>\n",
              "      <td>0.885</td>\n",
              "    </tr>\n",
              "    <tr>\n",
              "      <th>5</th>\n",
              "      <td>Gradient_Boosting</td>\n",
              "      <td>0.840</td>\n",
              "    </tr>\n",
              "    <tr>\n",
              "      <th>6</th>\n",
              "      <td>Decision_Tree</td>\n",
              "      <td>0.890</td>\n",
              "    </tr>\n",
              "    <tr>\n",
              "      <th>7</th>\n",
              "      <td>Extra_Trees</td>\n",
              "      <td>0.790</td>\n",
              "    </tr>\n",
              "    <tr>\n",
              "      <th>8</th>\n",
              "      <td>Random_Forest</td>\n",
              "      <td>0.880</td>\n",
              "    </tr>\n",
              "    <tr>\n",
              "      <th>9</th>\n",
              "      <td>AdaBoost</td>\n",
              "      <td>0.860</td>\n",
              "    </tr>\n",
              "    <tr>\n",
              "      <th>10</th>\n",
              "      <td>Naive_Bayes</td>\n",
              "      <td>0.895</td>\n",
              "    </tr>\n",
              "    <tr>\n",
              "      <th>11</th>\n",
              "      <td>XGBOOST</td>\n",
              "      <td>0.905</td>\n",
              "    </tr>\n",
              "  </tbody>\n",
              "</table>\n",
              "</div>"
            ],
            "text/plain": [
              "                 name  score\n",
              "0   Nearest_Neighbors  0.830\n",
              "1          Linear_SVM  0.885\n",
              "2      Polynomial_SVM  0.700\n",
              "3             RBF_SVM  0.445\n",
              "4    Gaussian_Process  0.885\n",
              "5   Gradient_Boosting  0.840\n",
              "6       Decision_Tree  0.890\n",
              "7         Extra_Trees  0.790\n",
              "8       Random_Forest  0.880\n",
              "9            AdaBoost  0.860\n",
              "10        Naive_Bayes  0.895\n",
              "11            XGBOOST  0.905"
            ]
          },
          "metadata": {
            "tags": []
          },
          "execution_count": 169
        }
      ]
    },
    {
      "cell_type": "markdown",
      "metadata": {
        "id": "HQciFYJNtrTN"
      },
      "source": [
        "Adding colors to the data frame\r\n"
      ]
    },
    {
      "cell_type": "code",
      "metadata": {
        "colab": {
          "base_uri": "https://localhost:8080/",
          "height": 248
        },
        "id": "ZH-lpd1vshIX",
        "outputId": "4f13989a-3329-4c42-8be2-1bdfb6ce7dda"
      },
      "source": [
        "cm = sns.light_palette(\"green\", as_cmap=True)\r\n",
        "s = df.style.background_gradient(cmap=cm)\r\n",
        "s"
      ],
      "execution_count": 170,
      "outputs": [
        {
          "output_type": "execute_result",
          "data": {
            "text/html": [
              "<style  type=\"text/css\" >\n",
              "#T_51a6c8b6_3cc8_11eb_aa98_0242ac1c0002row0_col1{\n",
              "            background-color:  #269226;\n",
              "            color:  #000000;\n",
              "        }#T_51a6c8b6_3cc8_11eb_aa98_0242ac1c0002row1_col1,#T_51a6c8b6_3cc8_11eb_aa98_0242ac1c0002row4_col1{\n",
              "            background-color:  #0a850a;\n",
              "            color:  #f1f1f1;\n",
              "        }#T_51a6c8b6_3cc8_11eb_aa98_0242ac1c0002row2_col1{\n",
              "            background-color:  #69b369;\n",
              "            color:  #000000;\n",
              "        }#T_51a6c8b6_3cc8_11eb_aa98_0242ac1c0002row3_col1{\n",
              "            background-color:  #ebf3eb;\n",
              "            color:  #000000;\n",
              "        }#T_51a6c8b6_3cc8_11eb_aa98_0242ac1c0002row5_col1{\n",
              "            background-color:  #219021;\n",
              "            color:  #000000;\n",
              "        }#T_51a6c8b6_3cc8_11eb_aa98_0242ac1c0002row6_col1{\n",
              "            background-color:  #078407;\n",
              "            color:  #f1f1f1;\n",
              "        }#T_51a6c8b6_3cc8_11eb_aa98_0242ac1c0002row7_col1{\n",
              "            background-color:  #3a9c3a;\n",
              "            color:  #000000;\n",
              "        }#T_51a6c8b6_3cc8_11eb_aa98_0242ac1c0002row8_col1{\n",
              "            background-color:  #0c860c;\n",
              "            color:  #f1f1f1;\n",
              "        }#T_51a6c8b6_3cc8_11eb_aa98_0242ac1c0002row9_col1{\n",
              "            background-color:  #178b17;\n",
              "            color:  #000000;\n",
              "        }#T_51a6c8b6_3cc8_11eb_aa98_0242ac1c0002row10_col1{\n",
              "            background-color:  #058205;\n",
              "            color:  #f1f1f1;\n",
              "        }#T_51a6c8b6_3cc8_11eb_aa98_0242ac1c0002row11_col1{\n",
              "            background-color:  #008000;\n",
              "            color:  #f1f1f1;\n",
              "        }</style><table id=\"T_51a6c8b6_3cc8_11eb_aa98_0242ac1c0002\" ><thead>    <tr>        <th class=\"blank level0\" ></th>        <th class=\"col_heading level0 col0\" >name</th>        <th class=\"col_heading level0 col1\" >score</th>    </tr></thead><tbody>\n",
              "                <tr>\n",
              "                        <th id=\"T_51a6c8b6_3cc8_11eb_aa98_0242ac1c0002level0_row0\" class=\"row_heading level0 row0\" >0</th>\n",
              "                        <td id=\"T_51a6c8b6_3cc8_11eb_aa98_0242ac1c0002row0_col0\" class=\"data row0 col0\" >Nearest_Neighbors</td>\n",
              "                        <td id=\"T_51a6c8b6_3cc8_11eb_aa98_0242ac1c0002row0_col1\" class=\"data row0 col1\" >0.830000</td>\n",
              "            </tr>\n",
              "            <tr>\n",
              "                        <th id=\"T_51a6c8b6_3cc8_11eb_aa98_0242ac1c0002level0_row1\" class=\"row_heading level0 row1\" >1</th>\n",
              "                        <td id=\"T_51a6c8b6_3cc8_11eb_aa98_0242ac1c0002row1_col0\" class=\"data row1 col0\" >Linear_SVM</td>\n",
              "                        <td id=\"T_51a6c8b6_3cc8_11eb_aa98_0242ac1c0002row1_col1\" class=\"data row1 col1\" >0.885000</td>\n",
              "            </tr>\n",
              "            <tr>\n",
              "                        <th id=\"T_51a6c8b6_3cc8_11eb_aa98_0242ac1c0002level0_row2\" class=\"row_heading level0 row2\" >2</th>\n",
              "                        <td id=\"T_51a6c8b6_3cc8_11eb_aa98_0242ac1c0002row2_col0\" class=\"data row2 col0\" >Polynomial_SVM</td>\n",
              "                        <td id=\"T_51a6c8b6_3cc8_11eb_aa98_0242ac1c0002row2_col1\" class=\"data row2 col1\" >0.700000</td>\n",
              "            </tr>\n",
              "            <tr>\n",
              "                        <th id=\"T_51a6c8b6_3cc8_11eb_aa98_0242ac1c0002level0_row3\" class=\"row_heading level0 row3\" >3</th>\n",
              "                        <td id=\"T_51a6c8b6_3cc8_11eb_aa98_0242ac1c0002row3_col0\" class=\"data row3 col0\" >RBF_SVM</td>\n",
              "                        <td id=\"T_51a6c8b6_3cc8_11eb_aa98_0242ac1c0002row3_col1\" class=\"data row3 col1\" >0.445000</td>\n",
              "            </tr>\n",
              "            <tr>\n",
              "                        <th id=\"T_51a6c8b6_3cc8_11eb_aa98_0242ac1c0002level0_row4\" class=\"row_heading level0 row4\" >4</th>\n",
              "                        <td id=\"T_51a6c8b6_3cc8_11eb_aa98_0242ac1c0002row4_col0\" class=\"data row4 col0\" >Gaussian_Process</td>\n",
              "                        <td id=\"T_51a6c8b6_3cc8_11eb_aa98_0242ac1c0002row4_col1\" class=\"data row4 col1\" >0.885000</td>\n",
              "            </tr>\n",
              "            <tr>\n",
              "                        <th id=\"T_51a6c8b6_3cc8_11eb_aa98_0242ac1c0002level0_row5\" class=\"row_heading level0 row5\" >5</th>\n",
              "                        <td id=\"T_51a6c8b6_3cc8_11eb_aa98_0242ac1c0002row5_col0\" class=\"data row5 col0\" >Gradient_Boosting</td>\n",
              "                        <td id=\"T_51a6c8b6_3cc8_11eb_aa98_0242ac1c0002row5_col1\" class=\"data row5 col1\" >0.840000</td>\n",
              "            </tr>\n",
              "            <tr>\n",
              "                        <th id=\"T_51a6c8b6_3cc8_11eb_aa98_0242ac1c0002level0_row6\" class=\"row_heading level0 row6\" >6</th>\n",
              "                        <td id=\"T_51a6c8b6_3cc8_11eb_aa98_0242ac1c0002row6_col0\" class=\"data row6 col0\" >Decision_Tree</td>\n",
              "                        <td id=\"T_51a6c8b6_3cc8_11eb_aa98_0242ac1c0002row6_col1\" class=\"data row6 col1\" >0.890000</td>\n",
              "            </tr>\n",
              "            <tr>\n",
              "                        <th id=\"T_51a6c8b6_3cc8_11eb_aa98_0242ac1c0002level0_row7\" class=\"row_heading level0 row7\" >7</th>\n",
              "                        <td id=\"T_51a6c8b6_3cc8_11eb_aa98_0242ac1c0002row7_col0\" class=\"data row7 col0\" >Extra_Trees</td>\n",
              "                        <td id=\"T_51a6c8b6_3cc8_11eb_aa98_0242ac1c0002row7_col1\" class=\"data row7 col1\" >0.790000</td>\n",
              "            </tr>\n",
              "            <tr>\n",
              "                        <th id=\"T_51a6c8b6_3cc8_11eb_aa98_0242ac1c0002level0_row8\" class=\"row_heading level0 row8\" >8</th>\n",
              "                        <td id=\"T_51a6c8b6_3cc8_11eb_aa98_0242ac1c0002row8_col0\" class=\"data row8 col0\" >Random_Forest</td>\n",
              "                        <td id=\"T_51a6c8b6_3cc8_11eb_aa98_0242ac1c0002row8_col1\" class=\"data row8 col1\" >0.880000</td>\n",
              "            </tr>\n",
              "            <tr>\n",
              "                        <th id=\"T_51a6c8b6_3cc8_11eb_aa98_0242ac1c0002level0_row9\" class=\"row_heading level0 row9\" >9</th>\n",
              "                        <td id=\"T_51a6c8b6_3cc8_11eb_aa98_0242ac1c0002row9_col0\" class=\"data row9 col0\" >AdaBoost</td>\n",
              "                        <td id=\"T_51a6c8b6_3cc8_11eb_aa98_0242ac1c0002row9_col1\" class=\"data row9 col1\" >0.860000</td>\n",
              "            </tr>\n",
              "            <tr>\n",
              "                        <th id=\"T_51a6c8b6_3cc8_11eb_aa98_0242ac1c0002level0_row10\" class=\"row_heading level0 row10\" >10</th>\n",
              "                        <td id=\"T_51a6c8b6_3cc8_11eb_aa98_0242ac1c0002row10_col0\" class=\"data row10 col0\" >Naive_Bayes</td>\n",
              "                        <td id=\"T_51a6c8b6_3cc8_11eb_aa98_0242ac1c0002row10_col1\" class=\"data row10 col1\" >0.895000</td>\n",
              "            </tr>\n",
              "            <tr>\n",
              "                        <th id=\"T_51a6c8b6_3cc8_11eb_aa98_0242ac1c0002level0_row11\" class=\"row_heading level0 row11\" >11</th>\n",
              "                        <td id=\"T_51a6c8b6_3cc8_11eb_aa98_0242ac1c0002row11_col0\" class=\"data row11 col0\" >XGBOOST</td>\n",
              "                        <td id=\"T_51a6c8b6_3cc8_11eb_aa98_0242ac1c0002row11_col1\" class=\"data row11 col1\" >0.905000</td>\n",
              "            </tr>\n",
              "    </tbody></table>"
            ],
            "text/plain": [
              "<pandas.io.formats.style.Styler at 0x7f35fb4209e8>"
            ]
          },
          "metadata": {
            "tags": []
          },
          "execution_count": 170
        }
      ]
    },
    {
      "cell_type": "markdown",
      "metadata": {
        "id": "ZmbMxRuvt9Ms"
      },
      "source": [
        "Bar plot of model performance"
      ]
    },
    {
      "cell_type": "code",
      "metadata": {
        "colab": {
          "base_uri": "https://localhost:8080/",
          "height": 284
        },
        "id": "s3y5fGKrt_hX",
        "outputId": "fd2fcf48-9806-46d3-917e-5c3995ef9768"
      },
      "source": [
        "sns.set(style=\"whitegrid\")\r\n",
        "ax = sns.barplot(y=\"name\", x=\"score\", data=df)"
      ],
      "execution_count": 171,
      "outputs": [
        {
          "output_type": "display_data",
          "data": {
            "image/png": "[encoded data removed]",
            "text/plain": [
              "<Figure size 432x288 with 1 Axes>"
            ]
          },
          "metadata": {
            "tags": []
          }
        }
      ]
    }
  ]
}